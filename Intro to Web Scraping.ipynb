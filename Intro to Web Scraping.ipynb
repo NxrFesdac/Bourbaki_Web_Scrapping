{
 "cells": [
  {
   "cell_type": "markdown",
   "metadata": {},
   "source": [
    "# Intro to Web Scraping"
   ]
  },
  {
   "cell_type": "code",
   "execution_count": 1,
   "metadata": {},
   "outputs": [
    {
     "name": "stdout",
     "output_type": "stream",
     "text": [
      "Requirement already satisfied: requests in c:\\users\\fesda\\anaconda3\\lib\\site-packages (2.24.0)\n",
      "Requirement already satisfied: chardet<4,>=3.0.2 in c:\\users\\fesda\\anaconda3\\lib\\site-packages (from requests) (3.0.4)\n",
      "Requirement already satisfied: urllib3!=1.25.0,!=1.25.1,<1.26,>=1.21.1 in c:\\users\\fesda\\anaconda3\\lib\\site-packages (from requests) (1.25.11)\n",
      "Requirement already satisfied: certifi>=2017.4.17 in c:\\users\\fesda\\anaconda3\\lib\\site-packages (from requests) (2020.6.20)\n",
      "Requirement already satisfied: idna<3,>=2.5 in c:\\users\\fesda\\anaconda3\\lib\\site-packages (from requests) (2.10)\n",
      "Requirement already satisfied: bs4 in c:\\users\\fesda\\anaconda3\\lib\\site-packages (0.0.1)\n",
      "Requirement already satisfied: beautifulsoup4 in c:\\users\\fesda\\anaconda3\\lib\\site-packages (from bs4) (4.9.3)\n",
      "Requirement already satisfied: soupsieve>1.2; python_version >= \"3.0\" in c:\\users\\fesda\\anaconda3\\lib\\site-packages (from beautifulsoup4->bs4) (2.0.1)\n",
      "Requirement already satisfied: pandas in c:\\users\\fesda\\anaconda3\\lib\\site-packages (1.1.3)\n",
      "Requirement already satisfied: numpy>=1.15.4 in c:\\users\\fesda\\anaconda3\\lib\\site-packages (from pandas) (1.19.2)\n",
      "Requirement already satisfied: pytz>=2017.2 in c:\\users\\fesda\\anaconda3\\lib\\site-packages (from pandas) (2020.1)\n",
      "Requirement already satisfied: python-dateutil>=2.7.3 in c:\\users\\fesda\\anaconda3\\lib\\site-packages (from pandas) (2.8.1)\n",
      "Requirement already satisfied: six>=1.5 in c:\\users\\fesda\\anaconda3\\lib\\site-packages (from python-dateutil>=2.7.3->pandas) (1.15.0)\n"
     ]
    }
   ],
   "source": [
    "!pip install requests\n",
    "!pip install bs4\n",
    "!pip install pandas"
   ]
  },
  {
   "cell_type": "code",
   "execution_count": 2,
   "metadata": {},
   "outputs": [],
   "source": [
    "import requests\n",
    "from bs4 import BeautifulSoup\n",
    "import pandas as pd"
   ]
  },
  {
   "cell_type": "code",
   "execution_count": 3,
   "metadata": {},
   "outputs": [],
   "source": [
    "response = requests.get('http://www.google.com')"
   ]
  },
  {
   "cell_type": "code",
   "execution_count": 4,
   "metadata": {},
   "outputs": [
    {
     "data": {
      "text/plain": [
       "'http://www.google.com/'"
      ]
     },
     "execution_count": 4,
     "metadata": {},
     "output_type": "execute_result"
    }
   ],
   "source": [
    "response.url"
   ]
  },
  {
   "cell_type": "code",
   "execution_count": 5,
   "metadata": {},
   "outputs": [
    {
     "data": {
      "text/plain": [
       "200"
      ]
     },
     "execution_count": 5,
     "metadata": {},
     "output_type": "execute_result"
    }
   ],
   "source": [
    "response.status_code"
   ]
  },
  {
   "cell_type": "code",
   "execution_count": 6,
   "metadata": {},
   "outputs": [
    {
     "data": {
      "text/plain": [
       "'<!doctype html><html itemscope=\"\" itemtype=\"http://schema.org/WebPage\" lang=\"es-419\"><head><meta content=\"text/html; charset=UTF-8\" http-equiv=\"Content-Type\"><meta content=\"/images/branding/googleg/1x/googleg_standard_color_128dp.png\" itemprop=\"image\"><title>Google</title><script nonce=\"n58zAVQdpjJKigDAAVr37Q==\">(function(){window.google={kEI:\\'EQePYLHaMsW6sQWnwJzgBg\\',kEXPI:\\'0,1302536,56873,954,5104,207,2414,2390,2316,383,246,5,1354,5250,1122516,1233,1196488,561,43,1,328941,51223,16112,17447,11240,17572,4858,1362,9290,3025,4743,6,12835,4020,978,13228,2054,1793,10622,14528,4516,2778,919,1832,445,9,2795,1593,1279,1042,1170,530,149,1103,840,517,1466,4,52,4258,3514,606,2023,1733,43,521,4269,328,1284,8789,3227,1989,856,7,5599,6755,5096,604,7272,3749,1180,108,3407,908,2,941,2614,2397,1503,5967,3275,3,346,230,1835,4625,148,5990,7985,4,1528,2304,1236,832,4394,577,1791,2893,2014,4067,9544,3011,1753,2658,4243,518,913,563,464,39,617,30,3852,1811,2466,3286,2213,2305,638,1494,5586,5763,1503,3269,665,2145,377,3308,2299,228,2954,1140,20,3118,8,906,3,1902,1639,1,1042,2,5512,8154,1814,38,245,912,5992,1260,1194,2,4298,400,32,2859,2481,2,1394,737,677,2,923,2,465,1715,2,517,1893,16,611,20,483,2064,2714,351,1269,3,471,2269,1694,353,633,520,2,70,442,176,254,660,350,1,1,1,596,1427,83,11,198,1846,286,1275,1330,1071,1771,406,1576,3,137,825,954,202,563,225,2,2,2,659,879,538,2,2,527,250,108,76,176,682,13,471,17,78,299,137,1058,1160,2206,84,313,274,2,184,1623,2,2,302,591,827,593,188,487,447,694,5652679,3905,185,41,63,30,8797692,882,444,1,2,80,1,1796,1,9,2,2551,1,748,141,795,563,1,4265,1,1,2,1331,3299,843,1,2608,155,17,13,72,139,4,2,20,2,169,13,19,46,5,39,96,62,11,4,207,4,4,4,4,4,4,8,4,4,4,24,68,128,29,2,2,1,2,1,2,2,7,4,1,2,4,2,98,3,48,1,41,16,24,63,1,7,13,11,2,8,6,38,37,11,23955805,149,4010124,268,27379,2,1788,1363,326,570\\',kBL:\\'i33l\\'};google.sn=\\'webhp\\';google.kHL=\\'es-419\\';})();(function(){\\nvar f,h=[];function k(a){for(var b;a&&(!a.getAttribute||!(b=a.getAttribute(\"eid\")));)a=a.parentNode;return b||f}function l(a){for(var b=null;a&&(!a.getAttribute||!(b=a.getAttribute(\"leid\")));)a=a.parentNode;return b}\\nfunction m(a,b,c,d,g){var e=\"\";c||-1!=b.search(\"&ei=\")||(e=\"&ei=\"+k(d),-1==b.search(\"&lei=\")&&(d=l(d))&&(e+=\"&lei=\"+d));d=\"\";!c&&window._cshid&&-1==b.search(\"&cshid=\")&&\"slh\"!=a&&(d=\"&cshid=\"+window._cshid);c=c||\"/\"+(g||\"gen_204\")+\"?atyp=i&ct=\"+a+\"&cad=\"+b+e+\"&zx=\"+Date.now()+d;/^http:/i.test(c)&&\"https:\"==window.location.protocol&&(google.ml&&google.ml(Error(\"a\"),!1,{src:c,glmm:1}),c=\"\");return c};f=google.kEI;google.getEI=k;google.getLEI=l;google.ml=function(){return null};google.log=function(a,b,c,d,g){if(c=m(a,b,c,d,g)){a=new Image;var e=h.length;h[e]=a;a.onerror=a.onload=a.onabort=function(){delete h[e]};a.src=c}};google.logUrl=m;}).call(this);(function(){\\ngoogle.y={};google.sy=[];google.x=function(a,b){if(a)var c=a.id;else{do c=Math.random();while(google.y[c])}google.y[c]=[a,b];return!1};google.sx=function(a){google.sy.push(a)};google.lm=[];google.plm=function(a){google.lm.push.apply(google.lm,a)};google.lq=[];google.load=function(a,b,c){google.lq.push([[a],b,c])};google.loadAll=function(a,b){google.lq.push([a,b])};google.bx=!1;google.lx=function(){};}).call(this);google.f={};(function(){\\ndocument.documentElement.addEventListener(\"submit\",function(b){var a;if(a=b.target){var c=a.getAttribute(\"data-submitfalse\");a=\"1\"==c||\"q\"==c&&!a.elements.q.value?!0:!1}else a=!1;a&&(b.preventDefault(),b.stopPropagation())},!0);document.documentElement.addEventListener(\"click\",function(b){var a;a:{for(a=b.target;a&&a!=document.documentElement;a=a.parentElement)if(\"A\"==a.tagName){a=\"1\"==a.getAttribute(\"data-nohref\");break a}a=!1}a&&b.preventDefault()},!0);}).call(this);</script><style>#gbar,#guser{font-size:13px;padding-top:1px !important;}#gbar{height:22px}#guser{padding-bottom:7px !important;text-align:right}.gbh,.gbd{border-top:1px solid #c9d7f1;font-size:1px}.gbh{height:0;position:absolute;top:24px;width:100%}@media all{.gb1{height:22px;margin-right:.5em;vertical-align:top}#gbar{float:left}}a.gb1,a.gb4{text-decoration:underline !important}a.gb1,a.gb4{color:#00c !important}.gbi .gb4{color:#dd8e27 !important}.gbf .gb4{color:#900 !important}\\n</style><style>body,td,a,p,.h{font-family:arial,sans-serif}body{margin:0;overflow-y:scroll}#gog{padding:3px 8px 0}td{line-height:.8em}.gac_m td{line-height:17px}form{margin-bottom:20px}.h{color:#1558d6}em{font-weight:bold;font-style:normal}.lst{height:25px;width:496px}.gsfi,.lst{font:18px arial,sans-serif}.gsfs{font:17px arial,sans-serif}.ds{display:inline-box;display:inline-block;margin:3px 0 4px;margin-left:4px}input{font-family:inherit}body{background:#fff;color:#000}a{color:#4b11a8;text-decoration:none}a:hover,a:active{text-decoration:underline}.fl a{color:#1558d6}a:visited{color:#4b11a8}.sblc{padding-top:5px}.sblc a{display:block;margin:2px 0;margin-left:13px;font-size:11px}.lsbb{background:#f8f9fa;border:solid 1px;border-color:#dadce0 #70757a #70757a #dadce0;height:30px}.lsbb{display:block}#WqQANb a{display:inline-block;margin:0 12px}.lsb{background:url(/images/nav_logo229.png) 0 -261px repeat-x;border:none;color:#000;cursor:pointer;height:30px;margin:0;outline:0;font:15px arial,sans-serif;vertical-align:top}.lsb:active{background:#dadce0}.lst:focus{outline:none}</style><script nonce=\"n58zAVQdpjJKigDAAVr37Q==\"></script></head><body bgcolor=\"#fff\"><script nonce=\"n58zAVQdpjJKigDAAVr37Q==\">(function(){var src=\\'/images/nav_logo229.png\\';var iesg=false;document.body.onload = function(){window.n && window.n();if (document.images){new Image().src=src;}\\nif (!iesg){document.f&&document.f.q.focus();document.gbqf&&document.gbqf.q.focus();}\\n}\\n})();</script><div id=\"mngb\"><div id=gbar><nobr><b class=gb1>Búsqueda</b> <a class=gb1 href=\"http://www.google.com.mx/imghp?hl=es-419&tab=wi\">Imágenes</a> <a class=gb1 href=\"http://maps.google.com.mx/maps?hl=es-419&tab=wl\">Maps</a> <a class=gb1 href=\"https://play.google.com/?hl=es-419&tab=w8\">Play</a> <a class=gb1 href=\"http://mx.youtube.com/?gl=MX&tab=w1\">YouTube</a> <a class=gb1 href=\"https://news.google.com/?tab=wn\">Noticias</a> <a class=gb1 href=\"https://mail.google.com/mail/?tab=wm\">Gmail</a> <a class=gb1 href=\"https://drive.google.com/?tab=wo\">Drive</a> <a class=gb1 style=\"text-decoration:none\" href=\"https://www.google.com.mx/intl/es-419/about/products?tab=wh\"><u>Más</u> &raquo;</a></nobr></div><div id=guser width=100%><nobr><span id=gbn class=gbi></span><span id=gbf class=gbf></span><span id=gbe></span><a href=\"http://www.google.com.mx/history/optout?hl=es-419\" class=gb4>Historial web</a> | <a  href=\"/preferences?hl=es-419\" class=gb4>Preferencias</a> | <a target=_top id=gb_70 href=\"https://accounts.google.com/ServiceLogin?hl=es-419&passive=true&continue=http://www.google.com/&ec=GAZAAQ\" class=gb4>Iniciar sesión</a></nobr></div><div class=gbh style=left:0></div><div class=gbh style=right:0></div></div><center><br clear=\"all\" id=\"lgpd\"><div id=\"lga\"><img alt=\"Google\" height=\"92\" src=\"/images/branding/googlelogo/1x/googlelogo_white_background_color_272x92dp.png\" style=\"padding:28px 0 14px\" width=\"272\" id=\"hplogo\"><br><br></div><form action=\"/search\" name=\"f\"><table cellpadding=\"0\" cellspacing=\"0\"><tr valign=\"top\"><td width=\"25%\">&nbsp;</td><td align=\"center\" nowrap=\"\"><input name=\"ie\" value=\"ISO-8859-1\" type=\"hidden\"><input value=\"es-419\" name=\"hl\" type=\"hidden\"><input name=\"source\" type=\"hidden\" value=\"hp\"><input name=\"biw\" type=\"hidden\"><input name=\"bih\" type=\"hidden\"><div class=\"ds\" style=\"height:32px;margin:4px 0\"><input class=\"lst\" style=\"margin:0;padding:5px 8px 0 6px;vertical-align:top;color:#000\" autocomplete=\"off\" value=\"\" title=\"Buscar con Google\" maxlength=\"2048\" name=\"q\" size=\"57\"></div><br style=\"line-height:0\"><span class=\"ds\"><span class=\"lsbb\"><input class=\"lsb\" value=\"Buscar con Google\" name=\"btnG\" type=\"submit\"></span></span><span class=\"ds\"><span class=\"lsbb\"><input class=\"lsb\" id=\"tsuid1\" value=\"Me siento con suerte \" name=\"btnI\" type=\"submit\"><script nonce=\"n58zAVQdpjJKigDAAVr37Q==\">(function(){var id=\\'tsuid1\\';document.getElementById(id).onclick = function(){if (this.form.q.value){this.checked = 1;if (this.form.iflsig)this.form.iflsig.disabled = false;}\\nelse top.location=\\'/doodles/\\';};})();</script><input value=\"AINFCbYAAAAAYI8VIZP6GE3FKZC7jz_t-PqZVjUZuKy7\" name=\"iflsig\" type=\"hidden\"></span></span></td><td class=\"fl sblc\" align=\"left\" nowrap=\"\" width=\"25%\"><a href=\"/advanced_search?hl=es-419&amp;authuser=0\">Búsqueda avanzada</a></td></tr></table><input id=\"gbv\" name=\"gbv\" type=\"hidden\" value=\"1\"><script nonce=\"n58zAVQdpjJKigDAAVr37Q==\">(function(){\\nvar a,b=\"1\";if(document&&document.getElementById)if(\"undefined\"!=typeof XMLHttpRequest)b=\"2\";else if(\"undefined\"!=typeof ActiveXObject){var c,d,e=[\"MSXML2.XMLHTTP.6.0\",\"MSXML2.XMLHTTP.3.0\",\"MSXML2.XMLHTTP\",\"Microsoft.XMLHTTP\"];for(c=0;d=e[c++];)try{new ActiveXObject(d),b=\"2\"}catch(h){}}a=b;if(\"2\"==a&&-1==location.search.indexOf(\"&gbv=2\")){var f=google.gbvu,g=document.getElementById(\"gbv\");g&&(g.value=a);f&&window.setTimeout(function(){location.href=f},0)};}).call(this);</script></form><div id=\"gac_scont\"></div><div style=\"font-size:83%;min-height:3.5em\"><br></div><span id=\"footer\"><div style=\"font-size:10pt\"><div style=\"margin:19px auto;text-align:center\" id=\"WqQANb\"><a href=\"/intl/es-419/ads/\">Programas de publicidad</a><a href=\"/services/\">Soluciones Empresariales</a><a href=\"/intl/es-419/about.html\">Todo acerca de Google</a><a href=\"http://www.google.com/setprefdomain?prefdom=MX&amp;prev=http://www.google.com.mx/&amp;sig=K_D_ysq0nnege1WReWSJMnVFGh3fY%3D\">Google.com.mx</a></div></div><p style=\"font-size:8pt;color:#70757a\">&copy; 2021 - <a href=\"/intl/es-419/policies/privacy/\">Privacidad</a> - <a href=\"/intl/es-419/policies/terms/\">Condiciones</a></p></span></center><script nonce=\"n58zAVQdpjJKigDAAVr37Q==\">(function(){window.google.cdo={height:0,width:0};(function(){\\nvar a=window.innerWidth,b=window.innerHeight;if(!a||!b){var c=window.document,d=\"CSS1Compat\"==c.compatMode?c.documentElement:c.body;a=d.clientWidth;b=d.clientHeight}a&&b&&(a!=google.cdo.width||b!=google.cdo.height)&&google.log(\"\",\"\",\"/client_204?&atyp=i&biw=\"+a+\"&bih=\"+b+\"&ei=\"+google.kEI);}).call(this);})();</script> <script nonce=\"n58zAVQdpjJKigDAAVr37Q==\">(function(){google.xjs={ck:\\'xjs.hp.v1cE8KxQzDU.L.X.O\\',cs:\\'ACT90oHnPVKetjbHQ1ode_1NqWqWzwyt7g\\',excm:[]};})();</script>  <script nonce=\"n58zAVQdpjJKigDAAVr37Q==\">(function(){var u=\\'/xjs/_/js/k\\\\x3dxjs.hp.en.coF3tVYPN_8.O/m\\\\x3dsb_he,d/am\\\\x3dAHgCHA/d\\\\x3d1/ed\\\\x3d1/rs\\\\x3dACT90oFOnE0zB4AF8VhktIF11wXvH4PJlw\\';\\nvar d=this||self,e=function(a){return a};var f;var h=function(a,b){this.g=b===g?a:\"\"};h.prototype.toString=function(){return this.g+\"\"};var g={};var l=null,m=/^[\\\\w+/_-]+[=]{0,2}$/,n=function(a){return a.querySelector?(a=a.querySelector(\"script[nonce]\"))&&(a=a.nonce||a.getAttribute(\"nonce\"))&&m.test(a)?a:\"\":\"\"};function p(){var a=u;google.lx=function(){q(a);google.lx=function(){}};google.bx||google.lx()}\\nfunction q(a){var b=document;var c=\"SCRIPT\";\"application/xhtml+xml\"===b.contentType&&(c=c.toLowerCase());c=b.createElement(c);if(void 0===f){b=null;var k=d.trustedTypes;if(k&&k.createPolicy){try{b=k.createPolicy(\"goog#html\",{createHTML:e,createScript:e,createScriptURL:e})}catch(r){d.console&&d.console.error(r.message)}f=b}else f=b}a=(b=f)?b.createScriptURL(a):a;a=new h(a,g);c.src=a instanceof h&&a.constructor===h?a.g:\"type_error:TrustedResourceUrl\";(a=c.ownerDocument&&c.ownerDocument.defaultView)&&\\na!=d?a=n(a.document):(null===l&&(l=n(d.document)),a=l);a&&c.setAttribute(\"nonce\",a);google.timers&&google.timers.load&&google.tick&&google.tick(\"load\",\"xjsls\");document.body.appendChild(c);google.psa=!0};setTimeout(function(){p()},0);})();(function(){window.google.xjsu=\\'/xjs/_/js/k\\\\x3dxjs.hp.en.coF3tVYPN_8.O/m\\\\x3dsb_he,d/am\\\\x3dAHgCHA/d\\\\x3d1/ed\\\\x3d1/rs\\\\x3dACT90oFOnE0zB4AF8VhktIF11wXvH4PJlw\\';})();function _DumpException(e){throw e;}\\nfunction _F_installCss(c){}\\n(function(){google.jl={blt:\\'none\\',dw:false,emtn:0,ine:false,lls:\\'default\\',pdt:0,snet:true,uwp:true};})();(function(){var pmc=\\'{\\\\x22d\\\\x22:{},\\\\x22sb_he\\\\x22:{\\\\x22agen\\\\x22:true,\\\\x22cgen\\\\x22:true,\\\\x22client\\\\x22:\\\\x22heirloom-hp\\\\x22,\\\\x22dh\\\\x22:true,\\\\x22dhqt\\\\x22:true,\\\\x22ds\\\\x22:\\\\x22\\\\x22,\\\\x22ffql\\\\x22:\\\\x22es\\\\x22,\\\\x22fl\\\\x22:true,\\\\x22host\\\\x22:\\\\x22google.com\\\\x22,\\\\x22isbh\\\\x22:28,\\\\x22jsonp\\\\x22:true,\\\\x22msgs\\\\x22:{\\\\x22cibl\\\\x22:\\\\x22Borrar búsqueda\\\\x22,\\\\x22dym\\\\x22:\\\\x22Quizás quisiste decir:\\\\x22,\\\\x22lcky\\\\x22:\\\\x22Me siento con suerte\\\\x22,\\\\x22lml\\\\x22:\\\\x22Más información\\\\x22,\\\\x22oskt\\\\x22:\\\\x22Herramientas de captura de texto\\\\x22,\\\\x22psrc\\\\x22:\\\\x22Se ha eliminado esta búsqueda de tu \\\\\\\\u003Ca href\\\\x3d\\\\\\\\\\\\x22/history\\\\\\\\\\\\x22\\\\\\\\u003EHistorial web\\\\\\\\u003C/a\\\\\\\\u003E\\\\x22,\\\\x22psrl\\\\x22:\\\\x22Eliminar\\\\x22,\\\\x22sbit\\\\x22:\\\\x22Buscar por imágenes\\\\x22,\\\\x22srch\\\\x22:\\\\x22Buscar con Google\\\\x22},\\\\x22nrft\\\\x22:false,\\\\x22ovr\\\\x22:{},\\\\x22pq\\\\x22:\\\\x22\\\\x22,\\\\x22refpd\\\\x22:true,\\\\x22rfs\\\\x22:[],\\\\x22sbas\\\\x22:\\\\x220 3px 8px 0 rgba(0,0,0,0.2),0 0 0 1px rgba(0,0,0,0.08)\\\\x22,\\\\x22sbpl\\\\x22:16,\\\\x22sbpr\\\\x22:16,\\\\x22scd\\\\x22:10,\\\\x22stok\\\\x22:\\\\x22UovyhPujY2oxtSv54VuQAdptubs\\\\x22,\\\\x22uhde\\\\x22:false}}\\';google.pmc=JSON.parse(pmc);})();</script>        </body></html>'"
      ]
     },
     "execution_count": 6,
     "metadata": {},
     "output_type": "execute_result"
    }
   ],
   "source": [
    "response.text"
   ]
  },
  {
   "cell_type": "code",
   "execution_count": 7,
   "metadata": {},
   "outputs": [],
   "source": [
    "soup = BeautifulSoup(response.text)"
   ]
  },
  {
   "cell_type": "code",
   "execution_count": 8,
   "metadata": {},
   "outputs": [
    {
     "name": "stdout",
     "output_type": "stream",
     "text": [
      "<!DOCTYPE html>\n",
      "<html itemscope=\"\" itemtype=\"http://schema.org/WebPage\" lang=\"es-419\">\n",
      " <head>\n",
      "  <meta content=\"text/html; charset=utf-8\" http-equiv=\"Content-Type\"/>\n",
      "  <meta content=\"/images/branding/googleg/1x/googleg_standard_color_128dp.png\" itemprop=\"image\"/>\n",
      "  <title>\n",
      "   Google\n",
      "  </title>\n",
      "  <script nonce=\"n58zAVQdpjJKigDAAVr37Q==\">\n",
      "   (function(){window.google={kEI:'EQePYLHaMsW6sQWnwJzgBg',kEXPI:'0,1302536,56873,954,5104,207,2414,2390,2316,383,246,5,1354,5250,1122516,1233,1196488,561,43,1,328941,51223,16112,17447,11240,17572,4858,1362,9290,3025,4743,6,12835,4020,978,13228,2054,1793,10622,14528,4516,2778,919,1832,445,9,2795,1593,1279,1042,1170,530,149,1103,840,517,1466,4,52,4258,3514,606,2023,1733,43,521,4269,328,1284,8789,3227,1989,856,7,5599,6755,5096,604,7272,3749,1180,108,3407,908,2,941,2614,2397,1503,5967,3275,3,346,230,1835,4625,148,5990,7985,4,1528,2304,1236,832,4394,577,1791,2893,2014,4067,9544,3011,1753,2658,4243,518,913,563,464,39,617,30,3852,1811,2466,3286,2213,2305,638,1494,5586,5763,1503,3269,665,2145,377,3308,2299,228,2954,1140,20,3118,8,906,3,1902,1639,1,1042,2,5512,8154,1814,38,245,912,5992,1260,1194,2,4298,400,32,2859,2481,2,1394,737,677,2,923,2,465,1715,2,517,1893,16,611,20,483,2064,2714,351,1269,3,471,2269,1694,353,633,520,2,70,442,176,254,660,350,1,1,1,596,1427,83,11,198,1846,286,1275,1330,1071,1771,406,1576,3,137,825,954,202,563,225,2,2,2,659,879,538,2,2,527,250,108,76,176,682,13,471,17,78,299,137,1058,1160,2206,84,313,274,2,184,1623,2,2,302,591,827,593,188,487,447,694,5652679,3905,185,41,63,30,8797692,882,444,1,2,80,1,1796,1,9,2,2551,1,748,141,795,563,1,4265,1,1,2,1331,3299,843,1,2608,155,17,13,72,139,4,2,20,2,169,13,19,46,5,39,96,62,11,4,207,4,4,4,4,4,4,8,4,4,4,24,68,128,29,2,2,1,2,1,2,2,7,4,1,2,4,2,98,3,48,1,41,16,24,63,1,7,13,11,2,8,6,38,37,11,23955805,149,4010124,268,27379,2,1788,1363,326,570',kBL:'i33l'};google.sn='webhp';google.kHL='es-419';})();(function(){\n",
      "var f,h=[];function k(a){for(var b;a&&(!a.getAttribute||!(b=a.getAttribute(\"eid\")));)a=a.parentNode;return b||f}function l(a){for(var b=null;a&&(!a.getAttribute||!(b=a.getAttribute(\"leid\")));)a=a.parentNode;return b}\n",
      "function m(a,b,c,d,g){var e=\"\";c||-1!=b.search(\"&ei=\")||(e=\"&ei=\"+k(d),-1==b.search(\"&lei=\")&&(d=l(d))&&(e+=\"&lei=\"+d));d=\"\";!c&&window._cshid&&-1==b.search(\"&cshid=\")&&\"slh\"!=a&&(d=\"&cshid=\"+window._cshid);c=c||\"/\"+(g||\"gen_204\")+\"?atyp=i&ct=\"+a+\"&cad=\"+b+e+\"&zx=\"+Date.now()+d;/^http:/i.test(c)&&\"https:\"==window.location.protocol&&(google.ml&&google.ml(Error(\"a\"),!1,{src:c,glmm:1}),c=\"\");return c};f=google.kEI;google.getEI=k;google.getLEI=l;google.ml=function(){return null};google.log=function(a,b,c,d,g){if(c=m(a,b,c,d,g)){a=new Image;var e=h.length;h[e]=a;a.onerror=a.onload=a.onabort=function(){delete h[e]};a.src=c}};google.logUrl=m;}).call(this);(function(){\n",
      "google.y={};google.sy=[];google.x=function(a,b){if(a)var c=a.id;else{do c=Math.random();while(google.y[c])}google.y[c]=[a,b];return!1};google.sx=function(a){google.sy.push(a)};google.lm=[];google.plm=function(a){google.lm.push.apply(google.lm,a)};google.lq=[];google.load=function(a,b,c){google.lq.push([[a],b,c])};google.loadAll=function(a,b){google.lq.push([a,b])};google.bx=!1;google.lx=function(){};}).call(this);google.f={};(function(){\n",
      "document.documentElement.addEventListener(\"submit\",function(b){var a;if(a=b.target){var c=a.getAttribute(\"data-submitfalse\");a=\"1\"==c||\"q\"==c&&!a.elements.q.value?!0:!1}else a=!1;a&&(b.preventDefault(),b.stopPropagation())},!0);document.documentElement.addEventListener(\"click\",function(b){var a;a:{for(a=b.target;a&&a!=document.documentElement;a=a.parentElement)if(\"A\"==a.tagName){a=\"1\"==a.getAttribute(\"data-nohref\");break a}a=!1}a&&b.preventDefault()},!0);}).call(this);\n",
      "  </script>\n",
      "  <style>\n",
      "   #gbar,#guser{font-size:13px;padding-top:1px !important;}#gbar{height:22px}#guser{padding-bottom:7px !important;text-align:right}.gbh,.gbd{border-top:1px solid #c9d7f1;font-size:1px}.gbh{height:0;position:absolute;top:24px;width:100%}@media all{.gb1{height:22px;margin-right:.5em;vertical-align:top}#gbar{float:left}}a.gb1,a.gb4{text-decoration:underline !important}a.gb1,a.gb4{color:#00c !important}.gbi .gb4{color:#dd8e27 !important}.gbf .gb4{color:#900 !important}\n",
      "  </style>\n",
      "  <style>\n",
      "   body,td,a,p,.h{font-family:arial,sans-serif}body{margin:0;overflow-y:scroll}#gog{padding:3px 8px 0}td{line-height:.8em}.gac_m td{line-height:17px}form{margin-bottom:20px}.h{color:#1558d6}em{font-weight:bold;font-style:normal}.lst{height:25px;width:496px}.gsfi,.lst{font:18px arial,sans-serif}.gsfs{font:17px arial,sans-serif}.ds{display:inline-box;display:inline-block;margin:3px 0 4px;margin-left:4px}input{font-family:inherit}body{background:#fff;color:#000}a{color:#4b11a8;text-decoration:none}a:hover,a:active{text-decoration:underline}.fl a{color:#1558d6}a:visited{color:#4b11a8}.sblc{padding-top:5px}.sblc a{display:block;margin:2px 0;margin-left:13px;font-size:11px}.lsbb{background:#f8f9fa;border:solid 1px;border-color:#dadce0 #70757a #70757a #dadce0;height:30px}.lsbb{display:block}#WqQANb a{display:inline-block;margin:0 12px}.lsb{background:url(/images/nav_logo229.png) 0 -261px repeat-x;border:none;color:#000;cursor:pointer;height:30px;margin:0;outline:0;font:15px arial,sans-serif;vertical-align:top}.lsb:active{background:#dadce0}.lst:focus{outline:none}\n",
      "  </style>\n",
      "  <script nonce=\"n58zAVQdpjJKigDAAVr37Q==\">\n",
      "  </script>\n",
      " </head>\n",
      " <body bgcolor=\"#fff\">\n",
      "  <script nonce=\"n58zAVQdpjJKigDAAVr37Q==\">\n",
      "   (function(){var src='/images/nav_logo229.png';var iesg=false;document.body.onload = function(){window.n && window.n();if (document.images){new Image().src=src;}\n",
      "if (!iesg){document.f&&document.f.q.focus();document.gbqf&&document.gbqf.q.focus();}\n",
      "}\n",
      "})();\n",
      "  </script>\n",
      "  <div id=\"mngb\">\n",
      "   <div id=\"gbar\">\n",
      "    <nobr>\n",
      "     <b class=\"gb1\">\n",
      "      Búsqueda\n",
      "     </b>\n",
      "     <a class=\"gb1\" href=\"http://www.google.com.mx/imghp?hl=es-419&amp;tab=wi\">\n",
      "      Imágenes\n",
      "     </a>\n",
      "     <a class=\"gb1\" href=\"http://maps.google.com.mx/maps?hl=es-419&amp;tab=wl\">\n",
      "      Maps\n",
      "     </a>\n",
      "     <a class=\"gb1\" href=\"https://play.google.com/?hl=es-419&amp;tab=w8\">\n",
      "      Play\n",
      "     </a>\n",
      "     <a class=\"gb1\" href=\"http://mx.youtube.com/?gl=MX&amp;tab=w1\">\n",
      "      YouTube\n",
      "     </a>\n",
      "     <a class=\"gb1\" href=\"https://news.google.com/?tab=wn\">\n",
      "      Noticias\n",
      "     </a>\n",
      "     <a class=\"gb1\" href=\"https://mail.google.com/mail/?tab=wm\">\n",
      "      Gmail\n",
      "     </a>\n",
      "     <a class=\"gb1\" href=\"https://drive.google.com/?tab=wo\">\n",
      "      Drive\n",
      "     </a>\n",
      "     <a class=\"gb1\" href=\"https://www.google.com.mx/intl/es-419/about/products?tab=wh\" style=\"text-decoration:none\">\n",
      "      <u>\n",
      "       Más\n",
      "      </u>\n",
      "      »\n",
      "     </a>\n",
      "    </nobr>\n",
      "   </div>\n",
      "   <div id=\"guser\" width=\"100%\">\n",
      "    <nobr>\n",
      "     <span class=\"gbi\" id=\"gbn\">\n",
      "     </span>\n",
      "     <span class=\"gbf\" id=\"gbf\">\n",
      "     </span>\n",
      "     <span id=\"gbe\">\n",
      "     </span>\n",
      "     <a class=\"gb4\" href=\"http://www.google.com.mx/history/optout?hl=es-419\">\n",
      "      Historial web\n",
      "     </a>\n",
      "     |\n",
      "     <a class=\"gb4\" href=\"/preferences?hl=es-419\">\n",
      "      Preferencias\n",
      "     </a>\n",
      "     |\n",
      "     <a class=\"gb4\" href=\"https://accounts.google.com/ServiceLogin?hl=es-419&amp;passive=true&amp;continue=http://www.google.com/&amp;ec=GAZAAQ\" id=\"gb_70\" target=\"_top\">\n",
      "      Iniciar sesión\n",
      "     </a>\n",
      "    </nobr>\n",
      "   </div>\n",
      "   <div class=\"gbh\" style=\"left:0\">\n",
      "   </div>\n",
      "   <div class=\"gbh\" style=\"right:0\">\n",
      "   </div>\n",
      "  </div>\n",
      "  <center>\n",
      "   <br clear=\"all\" id=\"lgpd\"/>\n",
      "   <div id=\"lga\">\n",
      "    <img alt=\"Google\" height=\"92\" id=\"hplogo\" src=\"/images/branding/googlelogo/1x/googlelogo_white_background_color_272x92dp.png\" style=\"padding:28px 0 14px\" width=\"272\"/>\n",
      "    <br/>\n",
      "    <br/>\n",
      "   </div>\n",
      "   <form action=\"/search\" name=\"f\">\n",
      "    <table cellpadding=\"0\" cellspacing=\"0\">\n",
      "     <tr valign=\"top\">\n",
      "      <td width=\"25%\">\n",
      "      </td>\n",
      "      <td align=\"center\" nowrap=\"\">\n",
      "       <input name=\"ie\" type=\"hidden\" value=\"ISO-8859-1\"/>\n",
      "       <input name=\"hl\" type=\"hidden\" value=\"es-419\"/>\n",
      "       <input name=\"source\" type=\"hidden\" value=\"hp\"/>\n",
      "       <input name=\"biw\" type=\"hidden\"/>\n",
      "       <input name=\"bih\" type=\"hidden\"/>\n",
      "       <div class=\"ds\" style=\"height:32px;margin:4px 0\">\n",
      "        <input autocomplete=\"off\" class=\"lst\" maxlength=\"2048\" name=\"q\" size=\"57\" style=\"margin:0;padding:5px 8px 0 6px;vertical-align:top;color:#000\" title=\"Buscar con Google\" value=\"\"/>\n",
      "       </div>\n",
      "       <br style=\"line-height:0\"/>\n",
      "       <span class=\"ds\">\n",
      "        <span class=\"lsbb\">\n",
      "         <input class=\"lsb\" name=\"btnG\" type=\"submit\" value=\"Buscar con Google\"/>\n",
      "        </span>\n",
      "       </span>\n",
      "       <span class=\"ds\">\n",
      "        <span class=\"lsbb\">\n",
      "         <input class=\"lsb\" id=\"tsuid1\" name=\"btnI\" type=\"submit\" value=\"Me siento con suerte \"/>\n",
      "         <script nonce=\"n58zAVQdpjJKigDAAVr37Q==\">\n",
      "          (function(){var id='tsuid1';document.getElementById(id).onclick = function(){if (this.form.q.value){this.checked = 1;if (this.form.iflsig)this.form.iflsig.disabled = false;}\n",
      "else top.location='/doodles/';};})();\n",
      "         </script>\n",
      "         <input name=\"iflsig\" type=\"hidden\" value=\"AINFCbYAAAAAYI8VIZP6GE3FKZC7jz_t-PqZVjUZuKy7\"/>\n",
      "        </span>\n",
      "       </span>\n",
      "      </td>\n",
      "      <td align=\"left\" class=\"fl sblc\" nowrap=\"\" width=\"25%\">\n",
      "       <a href=\"/advanced_search?hl=es-419&amp;authuser=0\">\n",
      "        Búsqueda avanzada\n",
      "       </a>\n",
      "      </td>\n",
      "     </tr>\n",
      "    </table>\n",
      "    <input id=\"gbv\" name=\"gbv\" type=\"hidden\" value=\"1\"/>\n",
      "    <script nonce=\"n58zAVQdpjJKigDAAVr37Q==\">\n",
      "     (function(){\n",
      "var a,b=\"1\";if(document&&document.getElementById)if(\"undefined\"!=typeof XMLHttpRequest)b=\"2\";else if(\"undefined\"!=typeof ActiveXObject){var c,d,e=[\"MSXML2.XMLHTTP.6.0\",\"MSXML2.XMLHTTP.3.0\",\"MSXML2.XMLHTTP\",\"Microsoft.XMLHTTP\"];for(c=0;d=e[c++];)try{new ActiveXObject(d),b=\"2\"}catch(h){}}a=b;if(\"2\"==a&&-1==location.search.indexOf(\"&gbv=2\")){var f=google.gbvu,g=document.getElementById(\"gbv\");g&&(g.value=a);f&&window.setTimeout(function(){location.href=f},0)};}).call(this);\n",
      "    </script>\n",
      "   </form>\n",
      "   <div id=\"gac_scont\">\n",
      "   </div>\n",
      "   <div style=\"font-size:83%;min-height:3.5em\">\n",
      "    <br/>\n",
      "   </div>\n",
      "   <span id=\"footer\">\n",
      "    <div style=\"font-size:10pt\">\n",
      "     <div id=\"WqQANb\" style=\"margin:19px auto;text-align:center\">\n",
      "      <a href=\"/intl/es-419/ads/\">\n",
      "       Programas de publicidad\n",
      "      </a>\n",
      "      <a href=\"/services/\">\n",
      "       Soluciones Empresariales\n",
      "      </a>\n",
      "      <a href=\"/intl/es-419/about.html\">\n",
      "       Todo acerca de Google\n",
      "      </a>\n",
      "      <a href=\"http://www.google.com/setprefdomain?prefdom=MX&amp;prev=http://www.google.com.mx/&amp;sig=K_D_ysq0nnege1WReWSJMnVFGh3fY%3D\">\n",
      "       Google.com.mx\n",
      "      </a>\n",
      "     </div>\n",
      "    </div>\n",
      "    <p style=\"font-size:8pt;color:#70757a\">\n",
      "     © 2021 -\n",
      "     <a href=\"/intl/es-419/policies/privacy/\">\n",
      "      Privacidad\n",
      "     </a>\n",
      "     -\n",
      "     <a href=\"/intl/es-419/policies/terms/\">\n",
      "      Condiciones\n",
      "     </a>\n",
      "    </p>\n",
      "   </span>\n",
      "  </center>\n",
      "  <script nonce=\"n58zAVQdpjJKigDAAVr37Q==\">\n",
      "   (function(){window.google.cdo={height:0,width:0};(function(){\n",
      "var a=window.innerWidth,b=window.innerHeight;if(!a||!b){var c=window.document,d=\"CSS1Compat\"==c.compatMode?c.documentElement:c.body;a=d.clientWidth;b=d.clientHeight}a&&b&&(a!=google.cdo.width||b!=google.cdo.height)&&google.log(\"\",\"\",\"/client_204?&atyp=i&biw=\"+a+\"&bih=\"+b+\"&ei=\"+google.kEI);}).call(this);})();\n",
      "  </script>\n",
      "  <script nonce=\"n58zAVQdpjJKigDAAVr37Q==\">\n",
      "   (function(){google.xjs={ck:'xjs.hp.v1cE8KxQzDU.L.X.O',cs:'ACT90oHnPVKetjbHQ1ode_1NqWqWzwyt7g',excm:[]};})();\n",
      "  </script>\n",
      "  <script nonce=\"n58zAVQdpjJKigDAAVr37Q==\">\n",
      "   (function(){var u='/xjs/_/js/k\\x3dxjs.hp.en.coF3tVYPN_8.O/m\\x3dsb_he,d/am\\x3dAHgCHA/d\\x3d1/ed\\x3d1/rs\\x3dACT90oFOnE0zB4AF8VhktIF11wXvH4PJlw';\n",
      "var d=this||self,e=function(a){return a};var f;var h=function(a,b){this.g=b===g?a:\"\"};h.prototype.toString=function(){return this.g+\"\"};var g={};var l=null,m=/^[\\w+/_-]+[=]{0,2}$/,n=function(a){return a.querySelector?(a=a.querySelector(\"script[nonce]\"))&&(a=a.nonce||a.getAttribute(\"nonce\"))&&m.test(a)?a:\"\":\"\"};function p(){var a=u;google.lx=function(){q(a);google.lx=function(){}};google.bx||google.lx()}\n",
      "function q(a){var b=document;var c=\"SCRIPT\";\"application/xhtml+xml\"===b.contentType&&(c=c.toLowerCase());c=b.createElement(c);if(void 0===f){b=null;var k=d.trustedTypes;if(k&&k.createPolicy){try{b=k.createPolicy(\"goog#html\",{createHTML:e,createScript:e,createScriptURL:e})}catch(r){d.console&&d.console.error(r.message)}f=b}else f=b}a=(b=f)?b.createScriptURL(a):a;a=new h(a,g);c.src=a instanceof h&&a.constructor===h?a.g:\"type_error:TrustedResourceUrl\";(a=c.ownerDocument&&c.ownerDocument.defaultView)&&\n",
      "a!=d?a=n(a.document):(null===l&&(l=n(d.document)),a=l);a&&c.setAttribute(\"nonce\",a);google.timers&&google.timers.load&&google.tick&&google.tick(\"load\",\"xjsls\");document.body.appendChild(c);google.psa=!0};setTimeout(function(){p()},0);})();(function(){window.google.xjsu='/xjs/_/js/k\\x3dxjs.hp.en.coF3tVYPN_8.O/m\\x3dsb_he,d/am\\x3dAHgCHA/d\\x3d1/ed\\x3d1/rs\\x3dACT90oFOnE0zB4AF8VhktIF11wXvH4PJlw';})();function _DumpException(e){throw e;}\n",
      "function _F_installCss(c){}\n",
      "(function(){google.jl={blt:'none',dw:false,emtn:0,ine:false,lls:'default',pdt:0,snet:true,uwp:true};})();(function(){var pmc='{\\x22d\\x22:{},\\x22sb_he\\x22:{\\x22agen\\x22:true,\\x22cgen\\x22:true,\\x22client\\x22:\\x22heirloom-hp\\x22,\\x22dh\\x22:true,\\x22dhqt\\x22:true,\\x22ds\\x22:\\x22\\x22,\\x22ffql\\x22:\\x22es\\x22,\\x22fl\\x22:true,\\x22host\\x22:\\x22google.com\\x22,\\x22isbh\\x22:28,\\x22jsonp\\x22:true,\\x22msgs\\x22:{\\x22cibl\\x22:\\x22Borrar búsqueda\\x22,\\x22dym\\x22:\\x22Quizás quisiste decir:\\x22,\\x22lcky\\x22:\\x22Me siento con suerte\\x22,\\x22lml\\x22:\\x22Más información\\x22,\\x22oskt\\x22:\\x22Herramientas de captura de texto\\x22,\\x22psrc\\x22:\\x22Se ha eliminado esta búsqueda de tu \\\\u003Ca href\\x3d\\\\\\x22/history\\\\\\x22\\\\u003EHistorial web\\\\u003C/a\\\\u003E\\x22,\\x22psrl\\x22:\\x22Eliminar\\x22,\\x22sbit\\x22:\\x22Buscar por imágenes\\x22,\\x22srch\\x22:\\x22Buscar con Google\\x22},\\x22nrft\\x22:false,\\x22ovr\\x22:{},\\x22pq\\x22:\\x22\\x22,\\x22refpd\\x22:true,\\x22rfs\\x22:[],\\x22sbas\\x22:\\x220 3px 8px 0 rgba(0,0,0,0.2),0 0 0 1px rgba(0,0,0,0.08)\\x22,\\x22sbpl\\x22:16,\\x22sbpr\\x22:16,\\x22scd\\x22:10,\\x22stok\\x22:\\x22UovyhPujY2oxtSv54VuQAdptubs\\x22,\\x22uhde\\x22:false}}';google.pmc=JSON.parse(pmc);})();\n",
      "  </script>\n",
      " </body>\n",
      "</html>\n"
     ]
    }
   ],
   "source": [
    "print(soup.prettify())"
   ]
  },
  {
   "cell_type": "code",
   "execution_count": 9,
   "metadata": {},
   "outputs": [
    {
     "data": {
      "text/plain": [
       "<title>Google</title>"
      ]
     },
     "execution_count": 9,
     "metadata": {},
     "output_type": "execute_result"
    }
   ],
   "source": [
    "soup.find('title')"
   ]
  },
  {
   "cell_type": "code",
   "execution_count": 10,
   "metadata": {},
   "outputs": [
    {
     "data": {
      "text/plain": [
       "'Google'"
      ]
     },
     "execution_count": 10,
     "metadata": {},
     "output_type": "execute_result"
    }
   ],
   "source": [
    "soup.find('title').text"
   ]
  },
  {
   "cell_type": "code",
   "execution_count": 11,
   "metadata": {},
   "outputs": [
    {
     "data": {
      "text/plain": [
       "[<a class=\"gb1\" href=\"http://www.google.com.mx/imghp?hl=es-419&amp;tab=wi\">Imágenes</a>,\n",
       " <a class=\"gb1\" href=\"http://maps.google.com.mx/maps?hl=es-419&amp;tab=wl\">Maps</a>,\n",
       " <a class=\"gb1\" href=\"https://play.google.com/?hl=es-419&amp;tab=w8\">Play</a>,\n",
       " <a class=\"gb1\" href=\"http://mx.youtube.com/?gl=MX&amp;tab=w1\">YouTube</a>,\n",
       " <a class=\"gb1\" href=\"https://news.google.com/?tab=wn\">Noticias</a>,\n",
       " <a class=\"gb1\" href=\"https://mail.google.com/mail/?tab=wm\">Gmail</a>,\n",
       " <a class=\"gb1\" href=\"https://drive.google.com/?tab=wo\">Drive</a>,\n",
       " <a class=\"gb1\" href=\"https://www.google.com.mx/intl/es-419/about/products?tab=wh\" style=\"text-decoration:none\"><u>Más</u> »</a>,\n",
       " <a class=\"gb4\" href=\"http://www.google.com.mx/history/optout?hl=es-419\">Historial web</a>,\n",
       " <a class=\"gb4\" href=\"/preferences?hl=es-419\">Preferencias</a>,\n",
       " <a class=\"gb4\" href=\"https://accounts.google.com/ServiceLogin?hl=es-419&amp;passive=true&amp;continue=http://www.google.com/&amp;ec=GAZAAQ\" id=\"gb_70\" target=\"_top\">Iniciar sesión</a>,\n",
       " <a href=\"/advanced_search?hl=es-419&amp;authuser=0\">Búsqueda avanzada</a>,\n",
       " <a href=\"/intl/es-419/ads/\">Programas de publicidad</a>,\n",
       " <a href=\"/services/\">Soluciones Empresariales</a>,\n",
       " <a href=\"/intl/es-419/about.html\">Todo acerca de Google</a>,\n",
       " <a href=\"http://www.google.com/setprefdomain?prefdom=MX&amp;prev=http://www.google.com.mx/&amp;sig=K_D_ysq0nnege1WReWSJMnVFGh3fY%3D\">Google.com.mx</a>,\n",
       " <a href=\"/intl/es-419/policies/privacy/\">Privacidad</a>,\n",
       " <a href=\"/intl/es-419/policies/terms/\">Condiciones</a>]"
      ]
     },
     "execution_count": 11,
     "metadata": {},
     "output_type": "execute_result"
    }
   ],
   "source": [
    "links = soup.find_all('a')\n",
    "links"
   ]
  },
  {
   "cell_type": "code",
   "execution_count": 12,
   "metadata": {},
   "outputs": [
    {
     "name": "stdout",
     "output_type": "stream",
     "text": [
      "Imágenes http://www.google.com.mx/imghp?hl=es-419&tab=wi\n",
      "Maps http://maps.google.com.mx/maps?hl=es-419&tab=wl\n",
      "Play https://play.google.com/?hl=es-419&tab=w8\n",
      "YouTube http://mx.youtube.com/?gl=MX&tab=w1\n",
      "Noticias https://news.google.com/?tab=wn\n",
      "Gmail https://mail.google.com/mail/?tab=wm\n",
      "Drive https://drive.google.com/?tab=wo\n",
      "Más » https://www.google.com.mx/intl/es-419/about/products?tab=wh\n",
      "Historial web http://www.google.com.mx/history/optout?hl=es-419\n",
      "Preferencias /preferences?hl=es-419\n",
      "Iniciar sesión https://accounts.google.com/ServiceLogin?hl=es-419&passive=true&continue=http://www.google.com/&ec=GAZAAQ\n",
      "Búsqueda avanzada /advanced_search?hl=es-419&authuser=0\n",
      "Programas de publicidad /intl/es-419/ads/\n",
      "Soluciones Empresariales /services/\n",
      "Todo acerca de Google /intl/es-419/about.html\n",
      "Google.com.mx http://www.google.com/setprefdomain?prefdom=MX&prev=http://www.google.com.mx/&sig=K_D_ysq0nnege1WReWSJMnVFGh3fY%3D\n",
      "Privacidad /intl/es-419/policies/privacy/\n",
      "Condiciones /intl/es-419/policies/terms/\n"
     ]
    }
   ],
   "source": [
    "for link in links:\n",
    "    print(link.text , link.get('href'))"
   ]
  },
  {
   "cell_type": "code",
   "execution_count": 13,
   "metadata": {},
   "outputs": [],
   "source": [
    "response = requests.get('http://mx.youtube.com/?gl=MX&tab=w1')"
   ]
  },
  {
   "cell_type": "code",
   "execution_count": null,
   "metadata": {},
   "outputs": [],
   "source": []
  },
  {
   "cell_type": "code",
   "execution_count": null,
   "metadata": {},
   "outputs": [],
   "source": []
  },
  {
   "cell_type": "code",
   "execution_count": null,
   "metadata": {},
   "outputs": [],
   "source": []
  },
  {
   "cell_type": "markdown",
   "metadata": {},
   "source": [
    "# Test Sites WEB Scraper"
   ]
  },
  {
   "cell_type": "code",
   "execution_count": 15,
   "metadata": {},
   "outputs": [
    {
     "data": {
      "text/plain": [
       "<Response [200]>"
      ]
     },
     "execution_count": 15,
     "metadata": {},
     "output_type": "execute_result"
    }
   ],
   "source": [
    "response2 = requests.get('https://webscraper.io/test-sites/e-commerce/allinone')\n",
    "response2"
   ]
  },
  {
   "cell_type": "code",
   "execution_count": 16,
   "metadata": {},
   "outputs": [
    {
     "name": "stdout",
     "output_type": "stream",
     "text": [
      "<!DOCTYPE html>\n",
      "<html lang=\"en\">\n",
      " <head>\n",
      "  <!-- Anti-flicker snippet (recommended)  -->\n",
      "  <style>\n",
      "   .async-hide {\n",
      "\t\topacity: 0 !important\n",
      "\t}\n",
      "  </style>\n",
      "  <script>\n",
      "   (function (a, s, y, n, c, h, i, d, e) {\n",
      "\t\ts.className += ' ' + y;\n",
      "\t\th.start = 1 * new Date;\n",
      "\t\th.end = i = function () {\n",
      "\t\t\ts.className = s.className.replace(RegExp(' ?' + y), '')\n",
      "\t\t};\n",
      "\t\t(a[n] = a[n] || []).hide = h;\n",
      "\t\tsetTimeout(function () {\n",
      "\t\t\ti();\n",
      "\t\t\th.end = null\n",
      "\t\t}, c);\n",
      "\t\th.timeout = c;\n",
      "\t})(window, document.documentElement, 'async-hide', 'dataLayer', 4000,\n",
      "\t\t{'GTM-NVFPDWB': true});\n",
      "  </script>\n",
      "  <!-- Google Tag Manager -->\n",
      "  <script>\n",
      "   (function (w, d, s, l, i) {\n",
      "\t\tw[l] = w[l] || [];\n",
      "\t\tw[l].push({\n",
      "\t\t\t'gtm.start':\n",
      "\t\t\t\tnew Date().getTime(), event: 'gtm.js'\n",
      "\t\t});\n",
      "\t\tvar f = d.getElementsByTagName(s)[0],\n",
      "\t\t\tj = d.createElement(s), dl = l != 'dataLayer' ? '&l=' + l : '';\n",
      "\t\tj.async = true;\n",
      "\t\tj.src =\n",
      "\t\t\t'https://www.googletagmanager.com/gtm.js?id=' + i + dl;\n",
      "\t\tf.parentNode.insertBefore(j, f);\n",
      "\t})(window, document, 'script', 'dataLayer', 'GTM-NVFPDWB');\n",
      "  </script>\n",
      "  <!-- End Google Tag Manager -->\n",
      "  <title>\n",
      "   Web Scraper Test Sites\n",
      "  </title>\n",
      "  <meta charset=\"utf-8\"/>\n",
      "  <meta content=\"IE=edge,chrome=1\" http-equiv=\"X-UA-Compatible\"/>\n",
      "  <meta content=\"web scraping,Web Scraper,Chrome extension,Crawling,Cross platform scraper\" name=\"keywords\"/>\n",
      "  <meta content=\"The most popular web scraping extension. Start scraping in minutes. Automate your tasks with our Cloud Scraper. No software to download, no coding needed.\" name=\"description\"/>\n",
      "  <link href=\"/favicon.png\" rel=\"icon\" sizes=\"128x128\"/>\n",
      "  <meta content=\"width=device-width, initial-scale=1.0\" name=\"viewport\"/>\n",
      "  <link href=\"/css/app.css?id=e4de8db16b64e604046e\" rel=\"stylesheet\"/>\n",
      "  <link href=\"https://webscraper.io/test-sites/e-commerce/allinone\" rel=\"canonical\"/>\n",
      "  <link href=\"/img/logo-icon.png\" rel=\"apple-touch-icon\"/>\n",
      "  <script defer=\"\" src=\"/js/app.js?id=e64f07a3ce1d466cf04c\">\n",
      "  </script>\n",
      " </head>\n",
      " <body>\n",
      "  <!-- Google Tag Manager (noscript) -->\n",
      "  <noscript>\n",
      "   <iframe height=\"0\" src=\"https://www.googletagmanager.com/ns.html?id=GTM-NVFPDWB\" style=\"display:none;visibility:hidden\" width=\"0\">\n",
      "   </iframe>\n",
      "  </noscript>\n",
      "  <!-- End Google Tag Manager (noscript) -->\n",
      "  <header class=\"navbar navbar-fixed-top navbar-static\" role=\"banner\">\n",
      "   <div class=\"container\">\n",
      "    <div class=\"navbar-header\">\n",
      "     <a data-target=\".side-collapse\" data-target-2=\".side-collapse-container\" data-toggle=\"collapse-side\">\n",
      "      <button aria-controls=\"navbar\" aria-expanded=\"false\" class=\"navbar-toggle pull-right collapsed\" data-target=\"#navbar\" data-target-2=\".side-collapse-container\" data-target-3=\".side-collapse\" data-toggle=\"collapse\" type=\"button\">\n",
      "       <span class=\"sr-only\">\n",
      "        Toggle navigation\n",
      "       </span>\n",
      "       <span class=\"icon-bar top-bar\">\n",
      "       </span>\n",
      "       <span class=\"icon-bar middle-bar\">\n",
      "       </span>\n",
      "       <span class=\"icon-bar bottom-bar\">\n",
      "       </span>\n",
      "      </button>\n",
      "     </a>\n",
      "     <div class=\"navbar-brand\">\n",
      "      <a href=\"/\">\n",
      "       <img alt=\"Web Scraper\" src=\"/img/logo_white.svg\"/>\n",
      "      </a>\n",
      "     </div>\n",
      "    </div>\n",
      "    <div class=\"side-collapse in\">\n",
      "     <nav class=\"navbar-collapse collapse\" id=\"navbar\" role=\"navigation\">\n",
      "      <ul class=\"nav navbar-nav navbar-right\">\n",
      "       <li class=\"hidden\">\n",
      "        <a href=\"#page-top\">\n",
      "        </a>\n",
      "       </li>\n",
      "       <li>\n",
      "        <a class=\"menuitm\" href=\"/\">\n",
      "         <p>\n",
      "          Web Scraper\n",
      "         </p>\n",
      "         <div class=\"crta\">\n",
      "         </div>\n",
      "        </a>\n",
      "       </li>\n",
      "       <li>\n",
      "        <a class=\"menuitm\" href=\"/cloud-scraper\">\n",
      "         <p>\n",
      "          Cloud Scraper\n",
      "         </p>\n",
      "         <div class=\"crta\">\n",
      "         </div>\n",
      "        </a>\n",
      "       </li>\n",
      "       <li>\n",
      "        <a class=\"menuitm\" href=\"/pricing\">\n",
      "         <p>\n",
      "          Pricing\n",
      "         </p>\n",
      "         <div class=\"crta\">\n",
      "         </div>\n",
      "        </a>\n",
      "       </li>\n",
      "       <li class=\"dropdown\">\n",
      "        <a class=\"menuitm dropdown-toggle\" data-toggle=\"dropdown\" href=\"#section3\">\n",
      "         <p>\n",
      "          Learn\n",
      "         </p>\n",
      "         <div class=\"crta\">\n",
      "         </div>\n",
      "        </a>\n",
      "        <ul class=\"dropdown-menu\">\n",
      "         <li>\n",
      "          <a href=\"/documentation\">\n",
      "           Documentation\n",
      "          </a>\n",
      "         </li>\n",
      "         <li>\n",
      "          <a href=\"/tutorials\">\n",
      "           Video Tutorials\n",
      "          </a>\n",
      "         </li>\n",
      "         <li>\n",
      "          <a href=\"/how-to-videos\">\n",
      "           How to\n",
      "          </a>\n",
      "         </li>\n",
      "         <li>\n",
      "          <a href=\"/test-sites\">\n",
      "           Test Sites\n",
      "          </a>\n",
      "         </li>\n",
      "         <li>\n",
      "          <a href=\"https://forum.webscraper.io/\" rel=\"noopener\" target=\"_blank\">\n",
      "           Forum\n",
      "          </a>\n",
      "         </li>\n",
      "        </ul>\n",
      "       </li>\n",
      "       <li>\n",
      "        <a class=\"btn-menu1 install-extension\" href=\"https://chrome.google.com/webstore/detail/web-scraper/jnhgnonknehpejjnehehllkliplmbmhn?hl=en\" rel=\"noopener\" target=\"_blank\">\n",
      "         Install\n",
      "        </a>\n",
      "       </li>\n",
      "       <li>\n",
      "        <a class=\"btn-menu2\" href=\"https://cloud.webscraper.io/\">\n",
      "         Login\n",
      "        </a>\n",
      "       </li>\n",
      "      </ul>\n",
      "     </nav>\n",
      "    </div>\n",
      "   </div>\n",
      "  </header>\n",
      "  <div class=\"wrapper\">\n",
      "   <div class=\"formenu-here container-fluid\">\n",
      "   </div>\n",
      "   <div class=\"container-fluid blog-hero\">\n",
      "    <div class=\"container\">\n",
      "     <div class=\"row\">\n",
      "      <div class=\"col-md-12\">\n",
      "       <h1>\n",
      "        Test Sites\n",
      "       </h1>\n",
      "      </div>\n",
      "     </div>\n",
      "    </div>\n",
      "   </div>\n",
      "   <div class=\"container test-site\">\n",
      "    <div class=\"row\">\n",
      "     <div class=\"col-md-3 sidebar\">\n",
      "      <div class=\"navbar-default sidebar\" role=\"navigation\">\n",
      "       <div class=\"sidebar-nav navbar-collapse\">\n",
      "        <ul class=\"nav\" id=\"side-menu\">\n",
      "         <li class=\"active\">\n",
      "          <a href=\"/test-sites/e-commerce/allinone\">\n",
      "           Home\n",
      "          </a>\n",
      "         </li>\n",
      "         <li>\n",
      "          <a class=\"category-link\" href=\"/test-sites/e-commerce/allinone/computers\">\n",
      "           Computers\n",
      "           <span class=\"fa arrow\">\n",
      "           </span>\n",
      "          </a>\n",
      "         </li>\n",
      "         <li>\n",
      "          <a class=\"category-link\" href=\"/test-sites/e-commerce/allinone/phones\">\n",
      "           Phones\n",
      "           <span class=\"fa arrow\">\n",
      "           </span>\n",
      "          </a>\n",
      "         </li>\n",
      "        </ul>\n",
      "       </div>\n",
      "      </div>\n",
      "     </div>\n",
      "     <div class=\"col-md-9\">\n",
      "      <div class=\"jumbotron\">\n",
      "       <h1>\n",
      "        E-commerce training site\n",
      "       </h1>\n",
      "       <p>\n",
      "        Welcome to WebScraper e-commerce site. You can use this site for training\n",
      "\t\t\tto learn how to use the Web Scraper. Items listed here are not for sale.\n",
      "       </p>\n",
      "      </div>\n",
      "      <h2>\n",
      "       Top items being scraped right now\n",
      "      </h2>\n",
      "      <div class=\"row\">\n",
      "       <div class=\"col-sm-4 col-lg-4 col-md-4\">\n",
      "        <div class=\"thumbnail\">\n",
      "         <img alt=\"item\" class=\"img-responsive\" src=\"/images/test-sites/e-commerce/items/cart2.png\"/>\n",
      "         <div class=\"caption\">\n",
      "          <h4 class=\"pull-right price\">\n",
      "           $439.73\n",
      "          </h4>\n",
      "          <h4>\n",
      "           <a class=\"title\" href=\"/test-sites/e-commerce/allinone/product/565\" title=\"Acer Extensa 15 (2540) Black\">\n",
      "            Acer Extensa 15...\n",
      "           </a>\n",
      "          </h4>\n",
      "          <p class=\"description\">\n",
      "           Acer Extensa 15 (2540) Black, 15.6\" HD, Core i5-7200U, 4GB, 500GB, Linux\n",
      "          </p>\n",
      "         </div>\n",
      "         <div class=\"ratings\">\n",
      "          <p class=\"pull-right\">\n",
      "           6 reviews\n",
      "          </p>\n",
      "          <p data-rating=\"4\">\n",
      "           <span class=\"glyphicon glyphicon-star\">\n",
      "           </span>\n",
      "           <span class=\"glyphicon glyphicon-star\">\n",
      "           </span>\n",
      "           <span class=\"glyphicon glyphicon-star\">\n",
      "           </span>\n",
      "           <span class=\"glyphicon glyphicon-star\">\n",
      "           </span>\n",
      "          </p>\n",
      "         </div>\n",
      "        </div>\n",
      "       </div>\n",
      "       <div class=\"col-sm-4 col-lg-4 col-md-4\">\n",
      "        <div class=\"thumbnail\">\n",
      "         <img alt=\"item\" class=\"img-responsive\" src=\"/images/test-sites/e-commerce/items/cart2.png\"/>\n",
      "         <div class=\"caption\">\n",
      "          <h4 class=\"pull-right price\">\n",
      "           $356.49\n",
      "          </h4>\n",
      "          <h4>\n",
      "           <a class=\"title\" href=\"/test-sites/e-commerce/allinone/product/549\" title=\"Lenovo V110-15IAP\">\n",
      "            Lenovo V110-15IA...\n",
      "           </a>\n",
      "          </h4>\n",
      "          <p class=\"description\">\n",
      "           Asus VivoBook 15 X540NA-GQ008T Chocolate Black, 15.6\" HD, Pentium N4200, 4GB, 500GB, Windows 10 Home, En kbd\n",
      "          </p>\n",
      "         </div>\n",
      "         <div class=\"ratings\">\n",
      "          <p class=\"pull-right\">\n",
      "           6 reviews\n",
      "          </p>\n",
      "          <p data-rating=\"2\">\n",
      "           <span class=\"glyphicon glyphicon-star\">\n",
      "           </span>\n",
      "           <span class=\"glyphicon glyphicon-star\">\n",
      "           </span>\n",
      "          </p>\n",
      "         </div>\n",
      "        </div>\n",
      "       </div>\n",
      "       <div class=\"col-sm-4 col-lg-4 col-md-4\">\n",
      "        <div class=\"thumbnail\">\n",
      "         <img alt=\"item\" class=\"img-responsive\" src=\"/images/test-sites/e-commerce/items/cart2.png\"/>\n",
      "         <div class=\"caption\">\n",
      "          <h4 class=\"pull-right price\">\n",
      "           $1199.73\n",
      "          </h4>\n",
      "          <h4>\n",
      "           <a class=\"title\" href=\"/test-sites/e-commerce/allinone/product/608\" title=\"Lenovo Yoga 910 Grey\">\n",
      "            Lenovo Yoga 910...\n",
      "           </a>\n",
      "          </h4>\n",
      "          <p class=\"description\">\n",
      "           Lenovo Yoga 910 Grey, 13.9\" FHD Touch, Core i5-7200U, 8GB, 256GB SSD, Windows 10 Home\n",
      "          </p>\n",
      "         </div>\n",
      "         <div class=\"ratings\">\n",
      "          <p class=\"pull-right\">\n",
      "           7 reviews\n",
      "          </p>\n",
      "          <p data-rating=\"3\">\n",
      "           <span class=\"glyphicon glyphicon-star\">\n",
      "           </span>\n",
      "           <span class=\"glyphicon glyphicon-star\">\n",
      "           </span>\n",
      "           <span class=\"glyphicon glyphicon-star\">\n",
      "           </span>\n",
      "          </p>\n",
      "         </div>\n",
      "        </div>\n",
      "       </div>\n",
      "      </div>\n",
      "     </div>\n",
      "    </div>\n",
      "   </div>\n",
      "   <div class=\"clearfix\">\n",
      "   </div>\n",
      "   <div class=\"push\">\n",
      "   </div>\n",
      "  </div>\n",
      "  <div class=\"container-fluid footer\" id=\"layout-footer\">\n",
      "   <div class=\"container\">\n",
      "    <div class=\"row\">\n",
      "     <div class=\"col-md-3\">\n",
      "      <ul>\n",
      "       <li>\n",
      "        <p>\n",
      "         Products\n",
      "        </p>\n",
      "       </li>\n",
      "       <li>\n",
      "        <a href=\"/\">\n",
      "         Web Scraper browser extension\n",
      "        </a>\n",
      "       </li>\n",
      "       <li>\n",
      "        <a href=\"/pricing\">\n",
      "         Web Scraper Cloud\n",
      "        </a>\n",
      "       </li>\n",
      "      </ul>\n",
      "     </div>\n",
      "     <div class=\"col-md-3\">\n",
      "      <ul>\n",
      "       <li>\n",
      "        <p>\n",
      "         Company\n",
      "        </p>\n",
      "       </li>\n",
      "       <li>\n",
      "        <a href=\"/contact\">\n",
      "         Contact\n",
      "        </a>\n",
      "       </li>\n",
      "       <li>\n",
      "        <a href=\"/privacy-policy\">\n",
      "         Website Privacy Policy\n",
      "        </a>\n",
      "       </li>\n",
      "       <li>\n",
      "        <a href=\"/extension-privacy-policy\">\n",
      "         Browser Extension Privacy Policy\n",
      "        </a>\n",
      "       </li>\n",
      "       <li>\n",
      "        <a href=\"http://webscraperio.us-east-1.elasticbeanstalk.com/downloads/Web_Scraper_Media_Kit.zip\">\n",
      "         Media kit\n",
      "        </a>\n",
      "       </li>\n",
      "       <li>\n",
      "        <a href=\"/jobs\">\n",
      "         Jobs\n",
      "        </a>\n",
      "       </li>\n",
      "      </ul>\n",
      "     </div>\n",
      "     <div class=\"col-md-3\">\n",
      "      <ul>\n",
      "       <li>\n",
      "        <p>\n",
      "         Resources\n",
      "        </p>\n",
      "       </li>\n",
      "       <li>\n",
      "        <a href=\"/blog\">\n",
      "         Blog\n",
      "        </a>\n",
      "       </li>\n",
      "       <li>\n",
      "        <a href=\"/documentation\">\n",
      "         Documentation\n",
      "        </a>\n",
      "       </li>\n",
      "       <li>\n",
      "        <a href=\"/tutorials\">\n",
      "         Video Tutorials\n",
      "        </a>\n",
      "       </li>\n",
      "       <li>\n",
      "        <a href=\"/screenshots\">\n",
      "         Screenshots\n",
      "        </a>\n",
      "       </li>\n",
      "       <li>\n",
      "        <a href=\"/test-sites\">\n",
      "         Test Sites\n",
      "        </a>\n",
      "       </li>\n",
      "       <li>\n",
      "        <a href=\"https://forum.webscraper.io/\" rel=\"noopener\" target=\"_blank\">\n",
      "         Forum\n",
      "        </a>\n",
      "       </li>\n",
      "      </ul>\n",
      "     </div>\n",
      "     <div class=\"col-md-3\">\n",
      "      <ul>\n",
      "       <li>\n",
      "        <p>\n",
      "         CONTACT US\n",
      "        </p>\n",
      "       </li>\n",
      "       <li>\n",
      "        <a href=\"mailto:info@webscraper.io\">\n",
      "         info@webscraper.io\n",
      "        </a>\n",
      "       </li>\n",
      "       <li>\n",
      "        Rupniecibas iela 30,\n",
      "        <br/>\n",
      "        Riga, Latvia, LV-1045\n",
      "       </li>\n",
      "      </ul>\n",
      "      <ul class=\"smedia\">\n",
      "       <li>\n",
      "        <a href=\"https://www.facebook.com/webscraperio/\" rel=\"noopener\" target=\"_blank\">\n",
      "         <img alt=\"Web Scraper on Facebook\" src=\"/img/fbicon.png\"/>\n",
      "        </a>\n",
      "       </li>\n",
      "       <li>\n",
      "        <a href=\"https://twitter.com/webscraperio\" rel=\"noopener\" target=\"_blank\">\n",
      "         <img alt=\"Web Scraper on Twitter\" src=\"/img/twicon.png\"/>\n",
      "        </a>\n",
      "       </li>\n",
      "      </ul>\n",
      "     </div>\n",
      "    </div>\n",
      "    <div class=\"row\">\n",
      "     <div class=\"col-md-12\">\n",
      "      <p class=\"copyright\">\n",
      "       Copyright &amp;copy 2021\n",
      "       <a href=\"#\">\n",
      "        Web Scraper\n",
      "       </a>\n",
      "       | All rights\n",
      "\t\t\t\t\treserved | Made by zoom59\n",
      "      </p>\n",
      "     </div>\n",
      "    </div>\n",
      "   </div>\n",
      "  </div>\n",
      " </body>\n",
      "</html>\n",
      "\n"
     ]
    }
   ],
   "source": [
    "soup2 = BeautifulSoup(response2.text)\n",
    "print(soup2.prettify())"
   ]
  },
  {
   "cell_type": "code",
   "execution_count": 17,
   "metadata": {},
   "outputs": [
    {
     "data": {
      "text/plain": [
       "<title>Web Scraper Test Sites</title>"
      ]
     },
     "execution_count": 17,
     "metadata": {},
     "output_type": "execute_result"
    }
   ],
   "source": [
    "soup2.find('title')"
   ]
  },
  {
   "cell_type": "code",
   "execution_count": 18,
   "metadata": {},
   "outputs": [
    {
     "data": {
      "text/plain": [
       "[<a data-target=\".side-collapse\" data-target-2=\".side-collapse-container\" data-toggle=\"collapse-side\">\n",
       " <button aria-controls=\"navbar\" aria-expanded=\"false\" class=\"navbar-toggle pull-right collapsed\" data-target=\"#navbar\" data-target-2=\".side-collapse-container\" data-target-3=\".side-collapse\" data-toggle=\"collapse\" type=\"button\">\n",
       " <span class=\"sr-only\">Toggle navigation</span>\n",
       " <span class=\"icon-bar top-bar\"></span>\n",
       " <span class=\"icon-bar middle-bar\"></span>\n",
       " <span class=\"icon-bar bottom-bar\"></span>\n",
       " </button>\n",
       " </a>,\n",
       " <a href=\"/\"><img alt=\"Web Scraper\" src=\"/img/logo_white.svg\"/></a>,\n",
       " <a href=\"#page-top\"></a>,\n",
       " <a class=\"menuitm\" href=\"/\">\n",
       " <p>Web Scraper</p>\n",
       " <div class=\"crta\"></div>\n",
       " </a>,\n",
       " <a class=\"menuitm\" href=\"/cloud-scraper\">\n",
       " <p>Cloud Scraper</p>\n",
       " <div class=\"crta\"></div>\n",
       " </a>,\n",
       " <a class=\"menuitm\" href=\"/pricing\">\n",
       " <p>Pricing</p>\n",
       " <div class=\"crta\"></div>\n",
       " </a>,\n",
       " <a class=\"menuitm dropdown-toggle\" data-toggle=\"dropdown\" href=\"#section3\">\n",
       " <p>Learn</p>\n",
       " <div class=\"crta\"></div>\n",
       " </a>,\n",
       " <a href=\"/documentation\">Documentation</a>,\n",
       " <a href=\"/tutorials\">Video Tutorials</a>,\n",
       " <a href=\"/how-to-videos\">How to</a>,\n",
       " <a href=\"/test-sites\">Test Sites</a>,\n",
       " <a href=\"https://forum.webscraper.io/\" rel=\"noopener\" target=\"_blank\">Forum</a>,\n",
       " <a class=\"btn-menu1 install-extension\" href=\"https://chrome.google.com/webstore/detail/web-scraper/jnhgnonknehpejjnehehllkliplmbmhn?hl=en\" rel=\"noopener\" target=\"_blank\">Install</a>,\n",
       " <a class=\"btn-menu2\" href=\"https://cloud.webscraper.io/\">Login</a>,\n",
       " <a href=\"/test-sites/e-commerce/allinone\">Home</a>,\n",
       " <a class=\"category-link\" href=\"/test-sites/e-commerce/allinone/computers\">\n",
       " \t\t\t\t\tComputers\n",
       " \t\t\t\t\t<span class=\"fa arrow\"></span>\n",
       " </a>,\n",
       " <a class=\"category-link\" href=\"/test-sites/e-commerce/allinone/phones\">\n",
       " \t\t\t\t\tPhones\n",
       " \t\t\t\t\t<span class=\"fa arrow\"></span>\n",
       " </a>,\n",
       " <a class=\"title\" href=\"/test-sites/e-commerce/allinone/product/565\" title=\"Acer Extensa 15 (2540) Black\">Acer Extensa 15...</a>,\n",
       " <a class=\"title\" href=\"/test-sites/e-commerce/allinone/product/549\" title=\"Lenovo V110-15IAP\">Lenovo V110-15IA...</a>,\n",
       " <a class=\"title\" href=\"/test-sites/e-commerce/allinone/product/608\" title=\"Lenovo Yoga 910 Grey\">Lenovo Yoga 910...</a>,\n",
       " <a href=\"/\">Web Scraper browser extension</a>,\n",
       " <a href=\"/pricing\">Web Scraper Cloud</a>,\n",
       " <a href=\"/contact\">Contact</a>,\n",
       " <a href=\"/privacy-policy\">Website Privacy Policy</a>,\n",
       " <a href=\"/extension-privacy-policy\">Browser Extension Privacy Policy</a>,\n",
       " <a href=\"http://webscraperio.us-east-1.elasticbeanstalk.com/downloads/Web_Scraper_Media_Kit.zip\">Media kit</a>,\n",
       " <a href=\"/jobs\">Jobs</a>,\n",
       " <a href=\"/blog\">Blog</a>,\n",
       " <a href=\"/documentation\">Documentation</a>,\n",
       " <a href=\"/tutorials\">Video Tutorials</a>,\n",
       " <a href=\"/screenshots\">Screenshots</a>,\n",
       " <a href=\"/test-sites\">Test Sites</a>,\n",
       " <a href=\"https://forum.webscraper.io/\" rel=\"noopener\" target=\"_blank\">Forum</a>,\n",
       " <a href=\"mailto:info@webscraper.io\">info@webscraper.io</a>,\n",
       " <a href=\"https://www.facebook.com/webscraperio/\" rel=\"noopener\" target=\"_blank\"><img alt=\"Web Scraper on Facebook\" src=\"/img/fbicon.png\"/></a>,\n",
       " <a href=\"https://twitter.com/webscraperio\" rel=\"noopener\" target=\"_blank\"><img alt=\"Web Scraper on Twitter\" src=\"/img/twicon.png\"/></a>,\n",
       " <a href=\"#\">Web Scraper</a>]"
      ]
     },
     "execution_count": 18,
     "metadata": {},
     "output_type": "execute_result"
    }
   ],
   "source": [
    "links2 = soup2.find_all('a')\n",
    "links2"
   ]
  },
  {
   "cell_type": "code",
   "execution_count": 19,
   "metadata": {},
   "outputs": [
    {
     "name": "stdout",
     "output_type": "stream",
     "text": [
      "\n",
      "\n",
      "Toggle navigation\n",
      "\n",
      "\n",
      "\n",
      "\n",
      "\n",
      "\n",
      "\n",
      "\n",
      "Web Scraper\n",
      "\n",
      "\n",
      "\n",
      "Cloud Scraper\n",
      "\n",
      "\n",
      "\n",
      "Pricing\n",
      "\n",
      "\n",
      "\n",
      "Learn\n",
      "\n",
      "\n",
      "Documentation\n",
      "Video Tutorials\n",
      "How to\n",
      "Test Sites\n",
      "Forum\n",
      "Install\n",
      "Login\n",
      "Home\n",
      "\n",
      "\t\t\t\t\tComputers\n",
      "\t\t\t\t\t\n",
      "\n",
      "\n",
      "\t\t\t\t\tPhones\n",
      "\t\t\t\t\t\n",
      "\n",
      "Acer Extensa 15...\n",
      "Lenovo V110-15IA...\n",
      "Lenovo Yoga 910...\n",
      "Web Scraper browser extension\n",
      "Web Scraper Cloud\n",
      "Contact\n",
      "Website Privacy Policy\n",
      "Browser Extension Privacy Policy\n",
      "Media kit\n",
      "Jobs\n",
      "Blog\n",
      "Documentation\n",
      "Video Tutorials\n",
      "Screenshots\n",
      "Test Sites\n",
      "Forum\n",
      "info@webscraper.io\n",
      "\n",
      "\n",
      "Web Scraper\n"
     ]
    }
   ],
   "source": [
    "for link in links2:\n",
    "    print(link.text)"
   ]
  },
  {
   "cell_type": "code",
   "execution_count": 20,
   "metadata": {},
   "outputs": [
    {
     "data": {
      "text/plain": [
       "[<h4 class=\"pull-right price\">$439.73</h4>,\n",
       " <h4>\n",
       " <a class=\"title\" href=\"/test-sites/e-commerce/allinone/product/565\" title=\"Acer Extensa 15 (2540) Black\">Acer Extensa 15...</a>\n",
       " </h4>,\n",
       " <h4 class=\"pull-right price\">$356.49</h4>,\n",
       " <h4>\n",
       " <a class=\"title\" href=\"/test-sites/e-commerce/allinone/product/549\" title=\"Lenovo V110-15IAP\">Lenovo V110-15IA...</a>\n",
       " </h4>,\n",
       " <h4 class=\"pull-right price\">$1199.73</h4>,\n",
       " <h4>\n",
       " <a class=\"title\" href=\"/test-sites/e-commerce/allinone/product/608\" title=\"Lenovo Yoga 910 Grey\">Lenovo Yoga 910...</a>\n",
       " </h4>]"
      ]
     },
     "execution_count": 20,
     "metadata": {},
     "output_type": "execute_result"
    }
   ],
   "source": [
    "description = soup2.find_all('h4')\n",
    "description"
   ]
  },
  {
   "cell_type": "markdown",
   "metadata": {},
   "source": [
    "#### Extraer el Precio del producto"
   ]
  },
  {
   "cell_type": "code",
   "execution_count": 21,
   "metadata": {},
   "outputs": [
    {
     "data": {
      "text/plain": [
       "[<h4 class=\"pull-right price\">$439.73</h4>,\n",
       " <h4 class=\"pull-right price\">$356.49</h4>,\n",
       " <h4 class=\"pull-right price\">$1199.73</h4>]"
      ]
     },
     "execution_count": 21,
     "metadata": {},
     "output_type": "execute_result"
    }
   ],
   "source": [
    "prices = soup2.find_all(class_=\"pull-right price\")\n",
    "prices"
   ]
  },
  {
   "cell_type": "code",
   "execution_count": 22,
   "metadata": {},
   "outputs": [
    {
     "name": "stdout",
     "output_type": "stream",
     "text": [
      "$439.73\n",
      "$356.49\n",
      "$1199.73\n"
     ]
    }
   ],
   "source": [
    "for precio in prices:\n",
    "    print(precio.text)"
   ]
  },
  {
   "cell_type": "markdown",
   "metadata": {},
   "source": [
    "#### Extraer el Nombre del Producto"
   ]
  },
  {
   "cell_type": "code",
   "execution_count": 23,
   "metadata": {},
   "outputs": [
    {
     "name": "stdout",
     "output_type": "stream",
     "text": [
      "[<a class=\"title\" href=\"/test-sites/e-commerce/allinone/product/565\" title=\"Acer Extensa 15 (2540) Black\">Acer Extensa 15...</a>, <a class=\"title\" href=\"/test-sites/e-commerce/allinone/product/549\" title=\"Lenovo V110-15IAP\">Lenovo V110-15IA...</a>, <a class=\"title\" href=\"/test-sites/e-commerce/allinone/product/608\" title=\"Lenovo Yoga 910 Grey\">Lenovo Yoga 910...</a>]\n"
     ]
    }
   ],
   "source": [
    "titles = soup2.find_all(class_=\"title\")\n",
    "print (titles)"
   ]
  },
  {
   "cell_type": "code",
   "execution_count": 26,
   "metadata": {},
   "outputs": [
    {
     "name": "stdout",
     "output_type": "stream",
     "text": [
      "Acer Extensa 15 (2540) Black\n",
      "Lenovo V110-15IAP\n",
      "Lenovo Yoga 910 Grey\n"
     ]
    }
   ],
   "source": [
    "for title in titles:\n",
    "    print(title.get('title'))\n",
    "    #print(title.text)"
   ]
  },
  {
   "cell_type": "markdown",
   "metadata": {},
   "source": [
    "#### Extraer la descripción del Producto"
   ]
  },
  {
   "cell_type": "code",
   "execution_count": 27,
   "metadata": {},
   "outputs": [
    {
     "data": {
      "text/plain": [
       "[<p class=\"description\">Acer Extensa 15 (2540) Black, 15.6\" HD, Core i5-7200U, 4GB, 500GB, Linux</p>,\n",
       " <p class=\"description\">Asus VivoBook 15 X540NA-GQ008T Chocolate Black, 15.6\" HD, Pentium N4200, 4GB, 500GB, Windows 10 Home, En kbd</p>,\n",
       " <p class=\"description\">Lenovo Yoga 910 Grey, 13.9\" FHD Touch, Core i5-7200U, 8GB, 256GB SSD, Windows 10 Home</p>]"
      ]
     },
     "execution_count": 27,
     "metadata": {},
     "output_type": "execute_result"
    }
   ],
   "source": [
    "descriptions = soup2.find_all(class_=\"description\")\n",
    "descriptions"
   ]
  },
  {
   "cell_type": "code",
   "execution_count": 28,
   "metadata": {},
   "outputs": [
    {
     "name": "stdout",
     "output_type": "stream",
     "text": [
      "Acer Extensa 15 (2540) Black, 15.6\" HD, Core i5-7200U, 4GB, 500GB, Linux\n",
      "Asus VivoBook 15 X540NA-GQ008T Chocolate Black, 15.6\" HD, Pentium N4200, 4GB, 500GB, Windows 10 Home, En kbd\n",
      "Lenovo Yoga 910 Grey, 13.9\" FHD Touch, Core i5-7200U, 8GB, 256GB SSD, Windows 10 Home\n"
     ]
    }
   ],
   "source": [
    "for descripcion in descriptions:\n",
    "    print(descripcion.text)"
   ]
  },
  {
   "cell_type": "markdown",
   "metadata": {},
   "source": [
    "#### Extraer los ratings del producto"
   ]
  },
  {
   "cell_type": "code",
   "execution_count": 29,
   "metadata": {},
   "outputs": [
    {
     "name": "stdout",
     "output_type": "stream",
     "text": [
      "[<div class=\"ratings\">\n",
      "<p class=\"pull-right\">6 reviews</p>\n",
      "<p data-rating=\"4\">\n",
      "<span class=\"glyphicon glyphicon-star\"></span>\n",
      "<span class=\"glyphicon glyphicon-star\"></span>\n",
      "<span class=\"glyphicon glyphicon-star\"></span>\n",
      "<span class=\"glyphicon glyphicon-star\"></span>\n",
      "</p>\n",
      "</div>, <div class=\"ratings\">\n",
      "<p class=\"pull-right\">6 reviews</p>\n",
      "<p data-rating=\"2\">\n",
      "<span class=\"glyphicon glyphicon-star\"></span>\n",
      "<span class=\"glyphicon glyphicon-star\"></span>\n",
      "</p>\n",
      "</div>, <div class=\"ratings\">\n",
      "<p class=\"pull-right\">7 reviews</p>\n",
      "<p data-rating=\"3\">\n",
      "<span class=\"glyphicon glyphicon-star\"></span>\n",
      "<span class=\"glyphicon glyphicon-star\"></span>\n",
      "<span class=\"glyphicon glyphicon-star\"></span>\n",
      "</p>\n",
      "</div>]\n"
     ]
    }
   ],
   "source": [
    "ratings = soup2.find_all(class_=\"ratings\")\n",
    "print(ratings)"
   ]
  },
  {
   "cell_type": "code",
   "execution_count": 30,
   "metadata": {},
   "outputs": [
    {
     "name": "stdout",
     "output_type": "stream",
     "text": [
      "6 reviews\n",
      "6 reviews\n",
      "7 reviews\n"
     ]
    }
   ],
   "source": [
    "for rating in ratings:\n",
    "    reviews = rating.find_all(class_=\"pull-right\")\n",
    "    for review in reviews:\n",
    "        print(review.text)   "
   ]
  },
  {
   "cell_type": "markdown",
   "metadata": {},
   "source": [
    "#### Hacer un DataFrame de los productos"
   ]
  },
  {
   "cell_type": "code",
   "execution_count": 31,
   "metadata": {},
   "outputs": [
    {
     "name": "stdout",
     "output_type": "stream",
     "text": [
      "$439.73\n",
      "$356.49\n",
      "$1199.73\n"
     ]
    }
   ],
   "source": [
    "lista_precios = []\n",
    "\n",
    "for precio in prices:\n",
    "    print(precio.text)\n",
    "    lista_precios.append(precio.text)"
   ]
  },
  {
   "cell_type": "code",
   "execution_count": 32,
   "metadata": {},
   "outputs": [
    {
     "name": "stdout",
     "output_type": "stream",
     "text": [
      "Acer Extensa 15 (2540) Black\n",
      "Lenovo V110-15IAP\n",
      "Lenovo Yoga 910 Grey\n"
     ]
    }
   ],
   "source": [
    "lista_nombres = []\n",
    "\n",
    "for title in titles:\n",
    "    print(title.get('title'))\n",
    "    lista_nombres.append(title.get('title'))"
   ]
  },
  {
   "cell_type": "code",
   "execution_count": 33,
   "metadata": {},
   "outputs": [
    {
     "name": "stdout",
     "output_type": "stream",
     "text": [
      "Acer Extensa 15 (2540) Black, 15.6\" HD, Core i5-7200U, 4GB, 500GB, Linux\n",
      "Asus VivoBook 15 X540NA-GQ008T Chocolate Black, 15.6\" HD, Pentium N4200, 4GB, 500GB, Windows 10 Home, En kbd\n",
      "Lenovo Yoga 910 Grey, 13.9\" FHD Touch, Core i5-7200U, 8GB, 256GB SSD, Windows 10 Home\n"
     ]
    }
   ],
   "source": [
    "lista_descripciones = []\n",
    "\n",
    "for descripcion in descriptions:\n",
    "    print(descripcion.text)\n",
    "    lista_descripciones.append(descripcion.text)"
   ]
  },
  {
   "cell_type": "code",
   "execution_count": 34,
   "metadata": {},
   "outputs": [
    {
     "name": "stdout",
     "output_type": "stream",
     "text": [
      "6 reviews\n",
      "6 reviews\n",
      "7 reviews\n"
     ]
    }
   ],
   "source": [
    "lista_ratings = []\n",
    "\n",
    "for rating in ratings:\n",
    "    reviews = rating.find_all(class_=\"pull-right\")\n",
    "    for review in reviews:\n",
    "        print(review.text)\n",
    "        lista_ratings.append(review.text)"
   ]
  },
  {
   "cell_type": "code",
   "execution_count": 35,
   "metadata": {},
   "outputs": [
    {
     "data": {
      "text/html": [
       "<div>\n",
       "<style scoped>\n",
       "    .dataframe tbody tr th:only-of-type {\n",
       "        vertical-align: middle;\n",
       "    }\n",
       "\n",
       "    .dataframe tbody tr th {\n",
       "        vertical-align: top;\n",
       "    }\n",
       "\n",
       "    .dataframe thead th {\n",
       "        text-align: right;\n",
       "    }\n",
       "</style>\n",
       "<table border=\"1\" class=\"dataframe\">\n",
       "  <thead>\n",
       "    <tr style=\"text-align: right;\">\n",
       "      <th></th>\n",
       "      <th>Nombres</th>\n",
       "      <th>Descripcion</th>\n",
       "      <th>Precio</th>\n",
       "      <th>Ratings</th>\n",
       "    </tr>\n",
       "  </thead>\n",
       "  <tbody>\n",
       "    <tr>\n",
       "      <th>0</th>\n",
       "      <td>Acer Extensa 15 (2540) Black</td>\n",
       "      <td>Acer Extensa 15 (2540) Black, 15.6\" HD, Core i...</td>\n",
       "      <td>$439.73</td>\n",
       "      <td>6 reviews</td>\n",
       "    </tr>\n",
       "    <tr>\n",
       "      <th>1</th>\n",
       "      <td>Lenovo V110-15IAP</td>\n",
       "      <td>Asus VivoBook 15 X540NA-GQ008T Chocolate Black...</td>\n",
       "      <td>$356.49</td>\n",
       "      <td>6 reviews</td>\n",
       "    </tr>\n",
       "    <tr>\n",
       "      <th>2</th>\n",
       "      <td>Lenovo Yoga 910 Grey</td>\n",
       "      <td>Lenovo Yoga 910 Grey, 13.9\" FHD Touch, Core i5...</td>\n",
       "      <td>$1199.73</td>\n",
       "      <td>7 reviews</td>\n",
       "    </tr>\n",
       "  </tbody>\n",
       "</table>\n",
       "</div>"
      ],
      "text/plain": [
       "                        Nombres  \\\n",
       "0  Acer Extensa 15 (2540) Black   \n",
       "1             Lenovo V110-15IAP   \n",
       "2          Lenovo Yoga 910 Grey   \n",
       "\n",
       "                                         Descripcion    Precio    Ratings  \n",
       "0  Acer Extensa 15 (2540) Black, 15.6\" HD, Core i...   $439.73  6 reviews  \n",
       "1  Asus VivoBook 15 X540NA-GQ008T Chocolate Black...   $356.49  6 reviews  \n",
       "2  Lenovo Yoga 910 Grey, 13.9\" FHD Touch, Core i5...  $1199.73  7 reviews  "
      ]
     },
     "execution_count": 35,
     "metadata": {},
     "output_type": "execute_result"
    }
   ],
   "source": [
    "pd.DataFrame(list(zip(lista_nombres, lista_descripciones, lista_precios, lista_ratings)), columns=['Nombres', 'Descripcion', 'Precio', 'Ratings'])"
   ]
  },
  {
   "cell_type": "code",
   "execution_count": null,
   "metadata": {},
   "outputs": [],
   "source": []
  }
 ],
 "metadata": {
  "kernelspec": {
   "display_name": "Python 3",
   "language": "python",
   "name": "python3"
  },
  "language_info": {
   "codemirror_mode": {
    "name": "ipython",
    "version": 3
   },
   "file_extension": ".py",
   "mimetype": "text/x-python",
   "name": "python",
   "nbconvert_exporter": "python",
   "pygments_lexer": "ipython3",
   "version": "3.8.5"
  }
 },
 "nbformat": 4,
 "nbformat_minor": 4
}
