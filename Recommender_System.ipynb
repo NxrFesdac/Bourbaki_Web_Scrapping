{
 "cells": [
  {
   "cell_type": "code",
   "execution_count": 1,
   "metadata": {},
   "outputs": [],
   "source": [
    "import pandas as pd\n",
    "import numpy as np\n",
    "from sklearn.metrics.pairwise import cosine_similarity\n",
    "from sklearn.feature_extraction.text import CountVectorizer\n",
    "import re"
   ]
  },
  {
   "cell_type": "code",
   "execution_count": 2,
   "metadata": {},
   "outputs": [
    {
     "data": {
      "text/html": [
       "<div>\n",
       "<style scoped>\n",
       "    .dataframe tbody tr th:only-of-type {\n",
       "        vertical-align: middle;\n",
       "    }\n",
       "\n",
       "    .dataframe tbody tr th {\n",
       "        vertical-align: top;\n",
       "    }\n",
       "\n",
       "    .dataframe thead th {\n",
       "        text-align: right;\n",
       "    }\n",
       "</style>\n",
       "<table border=\"1\" class=\"dataframe\">\n",
       "  <thead>\n",
       "    <tr style=\"text-align: right;\">\n",
       "      <th></th>\n",
       "      <th>Actores</th>\n",
       "      <th>Aspect Ratio:</th>\n",
       "      <th>Box Office (Gross USA):</th>\n",
       "      <th>Director:</th>\n",
       "      <th>Genre:</th>\n",
       "      <th>Nombre</th>\n",
       "      <th>Original Language:</th>\n",
       "      <th>Producer:</th>\n",
       "      <th>Production Co:</th>\n",
       "      <th>Rating:</th>\n",
       "      <th>Release Date (Streaming):</th>\n",
       "      <th>Release Date (Theaters):</th>\n",
       "      <th>Runtime:</th>\n",
       "      <th>Sound Mix:</th>\n",
       "      <th>View the collection:</th>\n",
       "      <th>Writer:</th>\n",
       "    </tr>\n",
       "  </thead>\n",
       "  <tbody>\n",
       "    <tr>\n",
       "      <th>0</th>\n",
       "      <td>Natalie Portman, Jennifer Jason Leigh, Gina Ro...</td>\n",
       "      <td>Scope (2.35:1)</td>\n",
       "      <td>$32.7M</td>\n",
       "      <td>Alex Garland</td>\n",
       "      <td>Adventure, Sci Fi, Mystery And Thriller</td>\n",
       "      <td>Annihilation (2018)</td>\n",
       "      <td>English</td>\n",
       "      <td>Scott Rudin, Andrew Macdonald, Allon Reich, El...</td>\n",
       "      <td>Scott Rudin Productions, DNA Films</td>\n",
       "      <td>R (Language|Bloody Images|Some Sexuality|Viole...</td>\n",
       "      <td>Apr 22, 2018</td>\n",
       "      <td>Feb 23, 2018  Wide</td>\n",
       "      <td>1h 55m</td>\n",
       "      <td>Dolby Digital</td>\n",
       "      <td>NaN</td>\n",
       "      <td>Alex Garland</td>\n",
       "    </tr>\n",
       "    <tr>\n",
       "      <th>1</th>\n",
       "      <td>Bob Hoskins, Christopher Lloyd, Joanna Cassidy...</td>\n",
       "      <td>NaN</td>\n",
       "      <td>$152.8M</td>\n",
       "      <td>Robert Zemeckis</td>\n",
       "      <td>Comedy</td>\n",
       "      <td>Who Framed Roger Rabbit (1988)</td>\n",
       "      <td>English</td>\n",
       "      <td>Robert Watts, Frank Marshall</td>\n",
       "      <td>Touchstone Pictures</td>\n",
       "      <td>PG</td>\n",
       "      <td>Dec 13, 2015</td>\n",
       "      <td>Jun 21, 1988  Wide</td>\n",
       "      <td>1h 44m</td>\n",
       "      <td>Surround</td>\n",
       "      <td>NaN</td>\n",
       "      <td>Jeffrey Price, Peter S. Seaman</td>\n",
       "    </tr>\n",
       "    <tr>\n",
       "      <th>2</th>\n",
       "      <td>Leonardo DiCaprio, Tom Hanks, Christopher Walk...</td>\n",
       "      <td>NaN</td>\n",
       "      <td>$164.4M</td>\n",
       "      <td>Steven Spielberg</td>\n",
       "      <td>Crime, Drama, Comedy</td>\n",
       "      <td>Catch Me If You Can (2002)</td>\n",
       "      <td>English</td>\n",
       "      <td>Walter F. Parkes, Steven Spielberg</td>\n",
       "      <td>Amblin Entertainment, DreamWorks SKG, Parkes/M...</td>\n",
       "      <td>PG-13 (Some Sexual Content|Brief Language)</td>\n",
       "      <td>Aug 1, 2013</td>\n",
       "      <td>Dec 25, 2002  Wide</td>\n",
       "      <td>2h 20m</td>\n",
       "      <td>Surround</td>\n",
       "      <td>NaN</td>\n",
       "      <td>Jeff Nathanson</td>\n",
       "    </tr>\n",
       "    <tr>\n",
       "      <th>3</th>\n",
       "      <td>Steve McQueen, Robert Vaughn, Jacqueline Bisse...</td>\n",
       "      <td>Flat (1.85:1)</td>\n",
       "      <td>NaN</td>\n",
       "      <td>Peter Yates</td>\n",
       "      <td>Drama, Crime</td>\n",
       "      <td>Bullitt (1968)</td>\n",
       "      <td>English</td>\n",
       "      <td>Philip D'Antoni</td>\n",
       "      <td>Solar Productions</td>\n",
       "      <td>PG</td>\n",
       "      <td>Sep 1, 2008</td>\n",
       "      <td>Oct 17, 1968  Wide</td>\n",
       "      <td>1h 53m</td>\n",
       "      <td>Stereo</td>\n",
       "      <td>NaN</td>\n",
       "      <td>Alan R. Trustman, Harry Kleiner</td>\n",
       "    </tr>\n",
       "    <tr>\n",
       "      <th>4</th>\n",
       "      <td>Matthew Broderick, Jeremy Irons, James Earl Jo...</td>\n",
       "      <td>Flat (1.85:1)</td>\n",
       "      <td>$422.8M</td>\n",
       "      <td>Roger Allers, Rob Minkoff</td>\n",
       "      <td>Adventure, Kids And Family, Animation, Musical</td>\n",
       "      <td>The Lion King (1994)</td>\n",
       "      <td>English</td>\n",
       "      <td>Don Hahn</td>\n",
       "      <td>Walt Disney Pictures</td>\n",
       "      <td>G</td>\n",
       "      <td>Aug 15, 2017</td>\n",
       "      <td>Jun 24, 1994  Wide</td>\n",
       "      <td>1h 27m</td>\n",
       "      <td>Dolby SR, DTS, Dolby Stereo, SDDS, DTS-ES, Dol...</td>\n",
       "      <td>NaN</td>\n",
       "      <td>Irene Mecchi, Jonathan Roberts, Linda Woolverton</td>\n",
       "    </tr>\n",
       "  </tbody>\n",
       "</table>\n",
       "</div>"
      ],
      "text/plain": [
       "                                             Actores   Aspect Ratio:  \\\n",
       "0  Natalie Portman, Jennifer Jason Leigh, Gina Ro...  Scope (2.35:1)   \n",
       "1  Bob Hoskins, Christopher Lloyd, Joanna Cassidy...             NaN   \n",
       "2  Leonardo DiCaprio, Tom Hanks, Christopher Walk...             NaN   \n",
       "3  Steve McQueen, Robert Vaughn, Jacqueline Bisse...   Flat (1.85:1)   \n",
       "4  Matthew Broderick, Jeremy Irons, James Earl Jo...   Flat (1.85:1)   \n",
       "\n",
       "  Box Office (Gross USA):                  Director:  \\\n",
       "0                  $32.7M               Alex Garland   \n",
       "1                 $152.8M            Robert Zemeckis   \n",
       "2                 $164.4M           Steven Spielberg   \n",
       "3                     NaN                Peter Yates   \n",
       "4                 $422.8M  Roger Allers, Rob Minkoff   \n",
       "\n",
       "                                           Genre:  \\\n",
       "0         Adventure, Sci Fi, Mystery And Thriller   \n",
       "1                                          Comedy   \n",
       "2                            Crime, Drama, Comedy   \n",
       "3                                    Drama, Crime   \n",
       "4  Adventure, Kids And Family, Animation, Musical   \n",
       "\n",
       "                           Nombre Original Language:  \\\n",
       "0             Annihilation (2018)            English   \n",
       "1  Who Framed Roger Rabbit (1988)            English   \n",
       "2      Catch Me If You Can (2002)            English   \n",
       "3                  Bullitt (1968)            English   \n",
       "4            The Lion King (1994)            English   \n",
       "\n",
       "                                           Producer:  \\\n",
       "0  Scott Rudin, Andrew Macdonald, Allon Reich, El...   \n",
       "1                       Robert Watts, Frank Marshall   \n",
       "2                 Walter F. Parkes, Steven Spielberg   \n",
       "3                                    Philip D'Antoni   \n",
       "4                                           Don Hahn   \n",
       "\n",
       "                                      Production Co:  \\\n",
       "0                 Scott Rudin Productions, DNA Films   \n",
       "1                                Touchstone Pictures   \n",
       "2  Amblin Entertainment, DreamWorks SKG, Parkes/M...   \n",
       "3                                  Solar Productions   \n",
       "4                               Walt Disney Pictures   \n",
       "\n",
       "                                             Rating:  \\\n",
       "0  R (Language|Bloody Images|Some Sexuality|Viole...   \n",
       "1                                                 PG   \n",
       "2         PG-13 (Some Sexual Content|Brief Language)   \n",
       "3                                                 PG   \n",
       "4                                                  G   \n",
       "\n",
       "  Release Date (Streaming): Release Date (Theaters): Runtime:  \\\n",
       "0              Apr 22, 2018       Feb 23, 2018  Wide   1h 55m   \n",
       "1              Dec 13, 2015       Jun 21, 1988  Wide   1h 44m   \n",
       "2               Aug 1, 2013       Dec 25, 2002  Wide   2h 20m   \n",
       "3               Sep 1, 2008       Oct 17, 1968  Wide   1h 53m   \n",
       "4              Aug 15, 2017       Jun 24, 1994  Wide   1h 27m   \n",
       "\n",
       "                                          Sound Mix: View the collection:  \\\n",
       "0                                      Dolby Digital                  NaN   \n",
       "1                                           Surround                  NaN   \n",
       "2                                           Surround                  NaN   \n",
       "3                                             Stereo                  NaN   \n",
       "4  Dolby SR, DTS, Dolby Stereo, SDDS, DTS-ES, Dol...                  NaN   \n",
       "\n",
       "                                            Writer:  \n",
       "0                                      Alex Garland  \n",
       "1                    Jeffrey Price, Peter S. Seaman  \n",
       "2                                    Jeff Nathanson  \n",
       "3                   Alan R. Trustman, Harry Kleiner  \n",
       "4  Irene Mecchi, Jonathan Roberts, Linda Woolverton  "
      ]
     },
     "execution_count": 2,
     "metadata": {},
     "output_type": "execute_result"
    }
   ],
   "source": [
    "df = pd.read_csv('movies_db.csv')\n",
    "df.head()"
   ]
  },
  {
   "cell_type": "code",
   "execution_count": 3,
   "metadata": {},
   "outputs": [],
   "source": [
    "df.rename(columns={'Director:': 'Director', 'Producer:':'Producer', 'Production Co:': 'Production_Co',\\\n",
    "                   'Rating:': 'Rating', 'Writer:':'Writer', 'Genre:':'Genre'}, inplace=True)"
   ]
  },
  {
   "cell_type": "code",
   "execution_count": 4,
   "metadata": {},
   "outputs": [],
   "source": [
    "df = df[['Nombre', 'Actores', 'Director']]"
   ]
  },
  {
   "cell_type": "code",
   "execution_count": 5,
   "metadata": {},
   "outputs": [
    {
     "data": {
      "text/html": [
       "<div>\n",
       "<style scoped>\n",
       "    .dataframe tbody tr th:only-of-type {\n",
       "        vertical-align: middle;\n",
       "    }\n",
       "\n",
       "    .dataframe tbody tr th {\n",
       "        vertical-align: top;\n",
       "    }\n",
       "\n",
       "    .dataframe thead th {\n",
       "        text-align: right;\n",
       "    }\n",
       "</style>\n",
       "<table border=\"1\" class=\"dataframe\">\n",
       "  <thead>\n",
       "    <tr style=\"text-align: right;\">\n",
       "      <th></th>\n",
       "      <th>Nombre</th>\n",
       "      <th>Actores</th>\n",
       "      <th>Director</th>\n",
       "    </tr>\n",
       "  </thead>\n",
       "  <tbody>\n",
       "    <tr>\n",
       "      <th>0</th>\n",
       "      <td>Annihilation (2018)</td>\n",
       "      <td>Natalie Portman, Jennifer Jason Leigh, Gina Ro...</td>\n",
       "      <td>Alex Garland</td>\n",
       "    </tr>\n",
       "    <tr>\n",
       "      <th>1</th>\n",
       "      <td>Who Framed Roger Rabbit (1988)</td>\n",
       "      <td>Bob Hoskins, Christopher Lloyd, Joanna Cassidy...</td>\n",
       "      <td>Robert Zemeckis</td>\n",
       "    </tr>\n",
       "    <tr>\n",
       "      <th>2</th>\n",
       "      <td>Catch Me If You Can (2002)</td>\n",
       "      <td>Leonardo DiCaprio, Tom Hanks, Christopher Walk...</td>\n",
       "      <td>Steven Spielberg</td>\n",
       "    </tr>\n",
       "    <tr>\n",
       "      <th>3</th>\n",
       "      <td>Bullitt (1968)</td>\n",
       "      <td>Steve McQueen, Robert Vaughn, Jacqueline Bisse...</td>\n",
       "      <td>Peter Yates</td>\n",
       "    </tr>\n",
       "    <tr>\n",
       "      <th>4</th>\n",
       "      <td>The Lion King (1994)</td>\n",
       "      <td>Matthew Broderick, Jeremy Irons, James Earl Jo...</td>\n",
       "      <td>Roger Allers, Rob Minkoff</td>\n",
       "    </tr>\n",
       "  </tbody>\n",
       "</table>\n",
       "</div>"
      ],
      "text/plain": [
       "                           Nombre  \\\n",
       "0             Annihilation (2018)   \n",
       "1  Who Framed Roger Rabbit (1988)   \n",
       "2      Catch Me If You Can (2002)   \n",
       "3                  Bullitt (1968)   \n",
       "4            The Lion King (1994)   \n",
       "\n",
       "                                             Actores  \\\n",
       "0  Natalie Portman, Jennifer Jason Leigh, Gina Ro...   \n",
       "1  Bob Hoskins, Christopher Lloyd, Joanna Cassidy...   \n",
       "2  Leonardo DiCaprio, Tom Hanks, Christopher Walk...   \n",
       "3  Steve McQueen, Robert Vaughn, Jacqueline Bisse...   \n",
       "4  Matthew Broderick, Jeremy Irons, James Earl Jo...   \n",
       "\n",
       "                    Director  \n",
       "0               Alex Garland  \n",
       "1            Robert Zemeckis  \n",
       "2           Steven Spielberg  \n",
       "3                Peter Yates  \n",
       "4  Roger Allers, Rob Minkoff  "
      ]
     },
     "execution_count": 5,
     "metadata": {},
     "output_type": "execute_result"
    }
   ],
   "source": [
    "df.head()"
   ]
  },
  {
   "cell_type": "code",
   "execution_count": 6,
   "metadata": {},
   "outputs": [],
   "source": [
    "def preprocesar_nombre(texto):\n",
    "  #convierte a minúsculas\n",
    "  texto = texto.lower()\n",
    "\n",
    "  #quita puntuaciones y todo lo que no sea letra y números\n",
    "  texto = re.sub('[^A-ZÜÖÄãüáéíóúa-z]+', ' ', texto)\n",
    "  texto = re.sub('[0-9]+', '', texto)\n",
    "  texto= re.sub('<.*?>', '', texto)\n",
    "    \n",
    "  texto = texto.strip()\n",
    "  \n",
    "  return(texto)"
   ]
  },
  {
   "cell_type": "code",
   "execution_count": 7,
   "metadata": {},
   "outputs": [],
   "source": [
    "df['Nombre'] = df['Nombre'].apply(preprocesar_nombre)\n",
    "df['Actores'] = df['Actores'].apply(preprocesar_nombre)\n",
    "df['Director'] = df['Director'].apply(preprocesar_nombre)"
   ]
  },
  {
   "cell_type": "code",
   "execution_count": 8,
   "metadata": {},
   "outputs": [],
   "source": [
    "#df['Actores'] = df['Actores'].str.lower()\n",
    "#df['Director'] = df['Director'].str.lower()\n",
    "#df['Genre'] = df['Genre'].str.lower()\n",
    "#df['Producer'] = df['Producer'].str.lower()\n",
    "#df['Production_Co'] = df['Production_Co'].str.lower()\n",
    "#df['Writer'] = df['Writer'].str.lower()"
   ]
  },
  {
   "cell_type": "code",
   "execution_count": 9,
   "metadata": {},
   "outputs": [],
   "source": [
    "df.fillna('', inplace=True)"
   ]
  },
  {
   "cell_type": "code",
   "execution_count": 10,
   "metadata": {},
   "outputs": [
    {
     "data": {
      "text/html": [
       "<div>\n",
       "<style scoped>\n",
       "    .dataframe tbody tr th:only-of-type {\n",
       "        vertical-align: middle;\n",
       "    }\n",
       "\n",
       "    .dataframe tbody tr th {\n",
       "        vertical-align: top;\n",
       "    }\n",
       "\n",
       "    .dataframe thead th {\n",
       "        text-align: right;\n",
       "    }\n",
       "</style>\n",
       "<table border=\"1\" class=\"dataframe\">\n",
       "  <thead>\n",
       "    <tr style=\"text-align: right;\">\n",
       "      <th></th>\n",
       "      <th>Nombre</th>\n",
       "      <th>Actores</th>\n",
       "      <th>Director</th>\n",
       "      <th>Id</th>\n",
       "    </tr>\n",
       "  </thead>\n",
       "  <tbody>\n",
       "    <tr>\n",
       "      <th>0</th>\n",
       "      <td>annihilation</td>\n",
       "      <td>natalie portman jennifer jason leigh gina rodr...</td>\n",
       "      <td>alex garland</td>\n",
       "      <td>1</td>\n",
       "    </tr>\n",
       "    <tr>\n",
       "      <th>1</th>\n",
       "      <td>who framed roger rabbit</td>\n",
       "      <td>bob hoskins christopher lloyd joanna cassidy s...</td>\n",
       "      <td>robert zemeckis</td>\n",
       "      <td>2</td>\n",
       "    </tr>\n",
       "    <tr>\n",
       "      <th>2</th>\n",
       "      <td>catch me if you can</td>\n",
       "      <td>leonardo dicaprio tom hanks christopher walken...</td>\n",
       "      <td>steven spielberg</td>\n",
       "      <td>3</td>\n",
       "    </tr>\n",
       "    <tr>\n",
       "      <th>3</th>\n",
       "      <td>bullitt</td>\n",
       "      <td>steve mcqueen robert vaughn jacqueline bisset ...</td>\n",
       "      <td>peter yates</td>\n",
       "      <td>4</td>\n",
       "    </tr>\n",
       "    <tr>\n",
       "      <th>4</th>\n",
       "      <td>the lion king</td>\n",
       "      <td>matthew broderick jeremy irons james earl jone...</td>\n",
       "      <td>roger allers rob minkoff</td>\n",
       "      <td>5</td>\n",
       "    </tr>\n",
       "  </tbody>\n",
       "</table>\n",
       "</div>"
      ],
      "text/plain": [
       "                    Nombre                                            Actores  \\\n",
       "0             annihilation  natalie portman jennifer jason leigh gina rodr...   \n",
       "1  who framed roger rabbit  bob hoskins christopher lloyd joanna cassidy s...   \n",
       "2      catch me if you can  leonardo dicaprio tom hanks christopher walken...   \n",
       "3                  bullitt  steve mcqueen robert vaughn jacqueline bisset ...   \n",
       "4            the lion king  matthew broderick jeremy irons james earl jone...   \n",
       "\n",
       "                   Director  Id  \n",
       "0              alex garland   1  \n",
       "1           robert zemeckis   2  \n",
       "2          steven spielberg   3  \n",
       "3               peter yates   4  \n",
       "4  roger allers rob minkoff   5  "
      ]
     },
     "execution_count": 10,
     "metadata": {},
     "output_type": "execute_result"
    }
   ],
   "source": [
    "df['Id'] = df.index + 1\n",
    "df.head()"
   ]
  },
  {
   "cell_type": "code",
   "execution_count": 11,
   "metadata": {},
   "outputs": [
    {
     "data": {
      "text/html": [
       "<div>\n",
       "<style scoped>\n",
       "    .dataframe tbody tr th:only-of-type {\n",
       "        vertical-align: middle;\n",
       "    }\n",
       "\n",
       "    .dataframe tbody tr th {\n",
       "        vertical-align: top;\n",
       "    }\n",
       "\n",
       "    .dataframe thead th {\n",
       "        text-align: right;\n",
       "    }\n",
       "</style>\n",
       "<table border=\"1\" class=\"dataframe\">\n",
       "  <thead>\n",
       "    <tr style=\"text-align: right;\">\n",
       "      <th></th>\n",
       "      <th>Nombre</th>\n",
       "      <th>Actores</th>\n",
       "      <th>Director</th>\n",
       "      <th>Id</th>\n",
       "      <th>features</th>\n",
       "    </tr>\n",
       "  </thead>\n",
       "  <tbody>\n",
       "    <tr>\n",
       "      <th>0</th>\n",
       "      <td>annihilation</td>\n",
       "      <td>natalie portman jennifer jason leigh gina rodr...</td>\n",
       "      <td>alex garland</td>\n",
       "      <td>1</td>\n",
       "      <td>annihilation, natalie portman jennifer jason l...</td>\n",
       "    </tr>\n",
       "    <tr>\n",
       "      <th>1</th>\n",
       "      <td>who framed roger rabbit</td>\n",
       "      <td>bob hoskins christopher lloyd joanna cassidy s...</td>\n",
       "      <td>robert zemeckis</td>\n",
       "      <td>2</td>\n",
       "      <td>who framed roger rabbit, bob hoskins christoph...</td>\n",
       "    </tr>\n",
       "    <tr>\n",
       "      <th>2</th>\n",
       "      <td>catch me if you can</td>\n",
       "      <td>leonardo dicaprio tom hanks christopher walken...</td>\n",
       "      <td>steven spielberg</td>\n",
       "      <td>3</td>\n",
       "      <td>catch me if you can, leonardo dicaprio tom han...</td>\n",
       "    </tr>\n",
       "    <tr>\n",
       "      <th>3</th>\n",
       "      <td>bullitt</td>\n",
       "      <td>steve mcqueen robert vaughn jacqueline bisset ...</td>\n",
       "      <td>peter yates</td>\n",
       "      <td>4</td>\n",
       "      <td>bullitt, steve mcqueen robert vaughn jacquelin...</td>\n",
       "    </tr>\n",
       "    <tr>\n",
       "      <th>4</th>\n",
       "      <td>the lion king</td>\n",
       "      <td>matthew broderick jeremy irons james earl jone...</td>\n",
       "      <td>roger allers rob minkoff</td>\n",
       "      <td>5</td>\n",
       "      <td>the lion king, matthew broderick jeremy irons ...</td>\n",
       "    </tr>\n",
       "  </tbody>\n",
       "</table>\n",
       "</div>"
      ],
      "text/plain": [
       "                    Nombre                                            Actores  \\\n",
       "0             annihilation  natalie portman jennifer jason leigh gina rodr...   \n",
       "1  who framed roger rabbit  bob hoskins christopher lloyd joanna cassidy s...   \n",
       "2      catch me if you can  leonardo dicaprio tom hanks christopher walken...   \n",
       "3                  bullitt  steve mcqueen robert vaughn jacqueline bisset ...   \n",
       "4            the lion king  matthew broderick jeremy irons james earl jone...   \n",
       "\n",
       "                   Director  Id  \\\n",
       "0              alex garland   1   \n",
       "1           robert zemeckis   2   \n",
       "2          steven spielberg   3   \n",
       "3               peter yates   4   \n",
       "4  roger allers rob minkoff   5   \n",
       "\n",
       "                                            features  \n",
       "0  annihilation, natalie portman jennifer jason l...  \n",
       "1  who framed roger rabbit, bob hoskins christoph...  \n",
       "2  catch me if you can, leonardo dicaprio tom han...  \n",
       "3  bullitt, steve mcqueen robert vaughn jacquelin...  \n",
       "4  the lion king, matthew broderick jeremy irons ...  "
      ]
     },
     "execution_count": 11,
     "metadata": {},
     "output_type": "execute_result"
    }
   ],
   "source": [
    "df['features'] = df['Nombre'] + ', ' + df['Actores'] + ', ' + df['Director']# + ', ' + df['Genre']\\\n",
    "#+ ', ' + df['Producer'] + ', ' + df['Production_Co'] + ', ' + df['Writer'] \n",
    "\n",
    "df.head()"
   ]
  },
  {
   "cell_type": "code",
   "execution_count": 12,
   "metadata": {},
   "outputs": [],
   "source": [
    "vectorizer = CountVectorizer()\n",
    "cm = vectorizer.fit_transform(df['features'])"
   ]
  },
  {
   "cell_type": "code",
   "execution_count": 15,
   "metadata": {},
   "outputs": [],
   "source": [
    "#print(vectorizer.get_feature_names())\n",
    "#print(cm)"
   ]
  },
  {
   "cell_type": "code",
   "execution_count": 16,
   "metadata": {},
   "outputs": [],
   "source": [
    "cs = cosine_similarity(cm)"
   ]
  },
  {
   "cell_type": "code",
   "execution_count": 17,
   "metadata": {},
   "outputs": [
    {
     "data": {
      "text/plain": [
       "array([[1.        , 0.        , 0.        , ..., 0.        , 0.        ,\n",
       "        0.        ],\n",
       "       [0.        , 1.        , 0.05407381, ..., 0.0571662 , 0.04914732,\n",
       "        0.        ],\n",
       "       [0.        , 0.05407381, 1.        , ..., 0.11128298, 0.        ,\n",
       "        0.05735393],\n",
       "       ...,\n",
       "       [0.        , 0.0571662 , 0.11128298, ..., 1.        , 0.        ,\n",
       "        0.        ],\n",
       "       [0.        , 0.04914732, 0.        , ..., 0.        , 1.        ,\n",
       "        0.        ],\n",
       "       [0.        , 0.        , 0.05735393, ..., 0.        , 0.        ,\n",
       "        1.        ]])"
      ]
     },
     "execution_count": 17,
     "metadata": {},
     "output_type": "execute_result"
    }
   ],
   "source": [
    "cs"
   ]
  },
  {
   "cell_type": "code",
   "execution_count": 18,
   "metadata": {},
   "outputs": [
    {
     "data": {
      "text/plain": [
       "(100, 100)"
      ]
     },
     "execution_count": 18,
     "metadata": {},
     "output_type": "execute_result"
    }
   ],
   "source": [
    "cs.shape"
   ]
  },
  {
   "cell_type": "code",
   "execution_count": 25,
   "metadata": {},
   "outputs": [],
   "source": [
    "#title = 'the lego movie'\n",
    "title = 'who framed roger rabbit'\n",
    "movie_id = df[df.Nombre == title]['Id'].values[0]"
   ]
  },
  {
   "cell_type": "code",
   "execution_count": 26,
   "metadata": {},
   "outputs": [
    {
     "data": {
      "text/plain": [
       "2"
      ]
     },
     "execution_count": 26,
     "metadata": {},
     "output_type": "execute_result"
    }
   ],
   "source": [
    "movie_id"
   ]
  },
  {
   "cell_type": "code",
   "execution_count": 27,
   "metadata": {},
   "outputs": [],
   "source": [
    "scores = list(enumerate(cs[movie_id]))"
   ]
  },
  {
   "cell_type": "code",
   "execution_count": 28,
   "metadata": {},
   "outputs": [],
   "source": [
    "sorted_scores = sorted(scores, key = lambda x:x[1], reverse=True)"
   ]
  },
  {
   "cell_type": "code",
   "execution_count": 29,
   "metadata": {},
   "outputs": [],
   "source": [
    "sorted_scores = sorted_scores[1:]"
   ]
  },
  {
   "cell_type": "code",
   "execution_count": 30,
   "metadata": {},
   "outputs": [
    {
     "name": "stdout",
     "output_type": "stream",
     "text": [
      "1 the lion king\n",
      "2 gun crazy deadly is the female\n",
      "3 up\n",
      "4 coco\n",
      "5 mission impossible rogue nation\n",
      "6 mad max fury road\n",
      "7 the hurt locker\n"
     ]
    }
   ],
   "source": [
    "contador = 0\n",
    "\n",
    "for item in sorted_scores:\n",
    "    nombre = df[df.Id == item[0]]['Nombre'].values[0]\n",
    "    print(contador+1, nombre)\n",
    "    contador += 1\n",
    "    if contador>6:\n",
    "        break"
   ]
  },
  {
   "cell_type": "code",
   "execution_count": null,
   "metadata": {},
   "outputs": [],
   "source": []
  }
 ],
 "metadata": {
  "kernelspec": {
   "display_name": "Python 3",
   "language": "python",
   "name": "python3"
  },
  "language_info": {
   "codemirror_mode": {
    "name": "ipython",
    "version": 3
   },
   "file_extension": ".py",
   "mimetype": "text/x-python",
   "name": "python",
   "nbconvert_exporter": "python",
   "pygments_lexer": "ipython3",
   "version": "3.8.5"
  }
 },
 "nbformat": 4,
 "nbformat_minor": 4
}
