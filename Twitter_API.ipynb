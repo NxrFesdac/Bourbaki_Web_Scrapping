{
 "cells": [
  {
   "cell_type": "code",
   "execution_count": 1,
   "metadata": {},
   "outputs": [],
   "source": [
    "import requests\n",
    "import json\n",
    "import pandas as pd\n",
    "import passwords"
   ]
  },
  {
   "cell_type": "code",
   "execution_count": 2,
   "metadata": {},
   "outputs": [],
   "source": [
    "headers = {\"Authorization\": \"Bearer {}\".format(passwords.twitter_pass)}"
   ]
  },
  {
   "cell_type": "code",
   "execution_count": 3,
   "metadata": {},
   "outputs": [],
   "source": [
    "r = requests.get('https://api.twitter.com/2/tweets/search/recent?query=%23seguros&max_results=10', headers=headers)"
   ]
  },
  {
   "cell_type": "code",
   "execution_count": 4,
   "metadata": {},
   "outputs": [
    {
     "name": "stdout",
     "output_type": "stream",
     "text": [
      "200\n"
     ]
    }
   ],
   "source": [
    "print(r.status_code)"
   ]
  },
  {
   "cell_type": "code",
   "execution_count": 5,
   "metadata": {},
   "outputs": [
    {
     "name": "stdout",
     "output_type": "stream",
     "text": [
      "{'data': [{'id': '1389035342544711682', 'text': '#CREDITOS PARA: #PENSIONADOS Y #ACTIVOS #COLOMBIA :#FOPEP  #FIDUPREVISORA #FOMAG #COLPENSIONES  #CREMIL #CAJEN #MINDEFENSA #CASUR #PROTECCION #PORVENIR #SEGUROS DE VIDA #ALFA #MAPFRE #POSITIVA #COLFONDOS #EJERCITO #POLICIA #FISCALIA #CONTRALORIA #DOCENTES'}, {'id': '1389021895819886596', 'text': 'Lo esencial es invisible a los ojos\\n.\\n.\\n.\\n#seguros #vida #retiro #obrasocial #galeno https://t.co/sInJu8Pph0'}, {'id': '1389015324910096388', 'text': 'RT @GrupoBOGO: Con SICAS Onlien segmenta estratégicamente y aumenta tus ventas a través de las campañas publicitarias. Visita nuestra págin…'}, {'id': '1389014919274708994', 'text': 'RT @GrupoBOGO: Con SICAS Lite visualizar y adminstrar tus pólizas es demasiado fácil. ¿Ya nos conoces?. Visita nuestra página para más info…'}, {'id': '1388998478379069445', 'text': '150 anos de Tranquilidade, desconto até 30% em novos seguros auto, casa, acidentes pessoais e saúde!\\n\\nFale connosco e poupe!\\n#seguros #tranquilidade #omeuagente https://t.co/3xgbIWWiDF'}, {'id': '1388997966116032512', 'text': 'RT @ExtraSeguros: 🇨🇴#Colombia\\n#Entrevista Marco Arenas: “La #pandemia mostró que hay una necesidad de contratar los #seguros de vida y hoga…'}, {'id': '1388997904283623428', 'text': 'RT @ExtraSeguros: 🇦🇷#Argentina\\nCapacitación para Alta Dirección de la Superintendencia de #Seguros de la #Nación\\n\\n#ExtraSeguros vía @Gob_Ar…'}, {'id': '1388997708057296897', 'text': 'RT @ExtraSeguros: 🇪🇸#España\\nUna turista sueca se inventa un robo en #Málaga para cobrar tres #seguros de #viaje \\n\\n#ExtraSeguros vía @elconf…'}, {'id': '1388995098319462408', 'text': '¡El último The seguros Daily! https://t.co/i9rYQ5e3pN Gracias a @carlos250577 @cyl_fica #seguros #seguridad'}, {'id': '1388991852813160449', 'text': '¿No sabes que hacer en domingo?\\nTe recomendamos visitar espacios verdes, son muy buenos para tu salud🍃\\nIngresa a https://t.co/ebAf3l2Lu3 y conócenos.\\n-\\n#GrupoJavelly #seguros #segurosmx #agentedeseguros #monterrey #cdméxico #guadalajara #motivacion #domingo #verde #familia https://t.co/NsVRvSCxXp'}], 'meta': {'newest_id': '1389035342544711682', 'oldest_id': '1388991852813160449', 'result_count': 10, 'next_token': 'b26v89c19zqg8o3fostu5xmhv2c4di2gpa8bj5490p859'}}\n"
     ]
    }
   ],
   "source": [
    "print(r.json())"
   ]
  },
  {
   "cell_type": "code",
   "execution_count": 6,
   "metadata": {},
   "outputs": [],
   "source": [
    "Tweet_Id = []\n",
    "Text = []\n",
    "\n",
    "for tweet in r.json()['data']:\n",
    "    Tweet_Id.append(tweet['id'])\n",
    "    Text.append(tweet['text'])"
   ]
  },
  {
   "cell_type": "code",
   "execution_count": 7,
   "metadata": {},
   "outputs": [
    {
     "data": {
      "text/html": [
       "<div>\n",
       "<style scoped>\n",
       "    .dataframe tbody tr th:only-of-type {\n",
       "        vertical-align: middle;\n",
       "    }\n",
       "\n",
       "    .dataframe tbody tr th {\n",
       "        vertical-align: top;\n",
       "    }\n",
       "\n",
       "    .dataframe thead th {\n",
       "        text-align: right;\n",
       "    }\n",
       "</style>\n",
       "<table border=\"1\" class=\"dataframe\">\n",
       "  <thead>\n",
       "    <tr style=\"text-align: right;\">\n",
       "      <th></th>\n",
       "      <th>Id</th>\n",
       "      <th>Text</th>\n",
       "    </tr>\n",
       "  </thead>\n",
       "  <tbody>\n",
       "    <tr>\n",
       "      <th>0</th>\n",
       "      <td>1389035342544711682</td>\n",
       "      <td>#CREDITOS PARA: #PENSIONADOS Y #ACTIVOS #COLOM...</td>\n",
       "    </tr>\n",
       "    <tr>\n",
       "      <th>1</th>\n",
       "      <td>1389021895819886596</td>\n",
       "      <td>Lo esencial es invisible a los ojos\\n.\\n.\\n.\\n...</td>\n",
       "    </tr>\n",
       "    <tr>\n",
       "      <th>2</th>\n",
       "      <td>1389015324910096388</td>\n",
       "      <td>RT @GrupoBOGO: Con SICAS Onlien segmenta estra...</td>\n",
       "    </tr>\n",
       "    <tr>\n",
       "      <th>3</th>\n",
       "      <td>1389014919274708994</td>\n",
       "      <td>RT @GrupoBOGO: Con SICAS Lite visualizar y adm...</td>\n",
       "    </tr>\n",
       "    <tr>\n",
       "      <th>4</th>\n",
       "      <td>1388998478379069445</td>\n",
       "      <td>150 anos de Tranquilidade, desconto até 30% em...</td>\n",
       "    </tr>\n",
       "  </tbody>\n",
       "</table>\n",
       "</div>"
      ],
      "text/plain": [
       "                    Id                                               Text\n",
       "0  1389035342544711682  #CREDITOS PARA: #PENSIONADOS Y #ACTIVOS #COLOM...\n",
       "1  1389021895819886596  Lo esencial es invisible a los ojos\\n.\\n.\\n.\\n...\n",
       "2  1389015324910096388  RT @GrupoBOGO: Con SICAS Onlien segmenta estra...\n",
       "3  1389014919274708994  RT @GrupoBOGO: Con SICAS Lite visualizar y adm...\n",
       "4  1388998478379069445  150 anos de Tranquilidade, desconto até 30% em..."
      ]
     },
     "execution_count": 7,
     "metadata": {},
     "output_type": "execute_result"
    }
   ],
   "source": [
    "df = pd.DataFrame(list(zip(Tweet_Id, Text)), columns=['Id', 'Text'])\n",
    "df.head()"
   ]
  },
  {
   "cell_type": "code",
   "execution_count": null,
   "metadata": {},
   "outputs": [],
   "source": []
  },
  {
   "cell_type": "code",
   "execution_count": null,
   "metadata": {},
   "outputs": [],
   "source": []
  }
 ],
 "metadata": {
  "kernelspec": {
   "display_name": "Python 3",
   "language": "python",
   "name": "python3"
  },
  "language_info": {
   "codemirror_mode": {
    "name": "ipython",
    "version": 3
   },
   "file_extension": ".py",
   "mimetype": "text/x-python",
   "name": "python",
   "nbconvert_exporter": "python",
   "pygments_lexer": "ipython3",
   "version": "3.8.5"
  }
 },
 "nbformat": 4,
 "nbformat_minor": 4
}
