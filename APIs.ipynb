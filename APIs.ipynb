{
 "cells": [
  {
   "cell_type": "code",
   "execution_count": 1,
   "metadata": {},
   "outputs": [],
   "source": [
    "import requests\n",
    "import passwords  ###Archivo local en el que tengo mis passwords\n",
    "import json"
   ]
  },
  {
   "cell_type": "code",
   "execution_count": 2,
   "metadata": {},
   "outputs": [],
   "source": [
    "url = \"http://api.openweathermap.org/data/2.5/weather?\""
   ]
  },
  {
   "cell_type": "code",
   "execution_count": 3,
   "metadata": {},
   "outputs": [],
   "source": [
    "contrasena = passwords.open_weather_map_pass"
   ]
  },
  {
   "cell_type": "code",
   "execution_count": 4,
   "metadata": {},
   "outputs": [],
   "source": [
    "response = requests.get(url + \"q=mexico&appid={}\"\\\n",
    "                        .format(contrasena))"
   ]
  },
  {
   "cell_type": "code",
   "execution_count": 5,
   "metadata": {},
   "outputs": [
    {
     "name": "stdout",
     "output_type": "stream",
     "text": [
      "{\"coord\":{\"lon\":120.7198,\"lat\":15.0646},\"weather\":[{\"id\":803,\"main\":\"Clouds\",\"description\":\"broken clouds\",\"icon\":\"04d\"}],\"base\":\"stations\",\"main\":{\"temp\":304.15,\"feels_like\":307.51,\"temp_min\":304.15,\"temp_max\":304.15,\"pressure\":1013,\"humidity\":58},\"visibility\":8000,\"wind\":{\"speed\":4.12,\"deg\":70},\"clouds\":{\"all\":75},\"dt\":1620005059,\"sys\":{\"type\":1,\"id\":8152,\"country\":\"PH\",\"sunrise\":1619991185,\"sunset\":1620036889},\"timezone\":28800,\"id\":1699805,\"name\":\"Mexico\",\"cod\":200}\n"
     ]
    }
   ],
   "source": [
    "print(response.text)"
   ]
  },
  {
   "cell_type": "code",
   "execution_count": 6,
   "metadata": {},
   "outputs": [],
   "source": [
    "response = json.loads(response.text)"
   ]
  },
  {
   "cell_type": "code",
   "execution_count": 11,
   "metadata": {},
   "outputs": [
    {
     "name": "stdout",
     "output_type": "stream",
     "text": [
      "Clouds\n"
     ]
    }
   ],
   "source": [
    "print(response['weather'][0]['main'])"
   ]
  },
  {
   "cell_type": "markdown",
   "metadata": {},
   "source": [
    "## Ejemplo 2"
   ]
  },
  {
   "cell_type": "code",
   "execution_count": 12,
   "metadata": {},
   "outputs": [],
   "source": [
    "response = requests.get(url + \"lat=19.435205&lon=-99.1433887&appid={}\"\\\n",
    "                        .format(contrasena))"
   ]
  },
  {
   "cell_type": "code",
   "execution_count": 13,
   "metadata": {},
   "outputs": [
    {
     "name": "stdout",
     "output_type": "stream",
     "text": [
      "{\"coord\":{\"lon\":-99.1434,\"lat\":19.4352},\"weather\":[{\"id\":802,\"main\":\"Clouds\",\"description\":\"scattered clouds\",\"icon\":\"03n\"}],\"base\":\"stations\",\"main\":{\"temp\":294.15,\"feels_like\":293.35,\"temp_min\":294.15,\"temp_max\":294.15,\"pressure\":1021,\"humidity\":40},\"visibility\":10000,\"wind\":{\"speed\":6.17,\"deg\":110},\"clouds\":{\"all\":40},\"dt\":1620005326,\"sys\":{\"type\":1,\"id\":7146,\"country\":\"MX\",\"sunrise\":1619957236,\"sunset\":1620003576},\"timezone\":-18000,\"id\":3530597,\"name\":\"Mexico City\",\"cod\":200}\n"
     ]
    }
   ],
   "source": [
    "print(response.text)"
   ]
  },
  {
   "cell_type": "markdown",
   "metadata": {},
   "source": [
    "## Ejemplo 3"
   ]
  },
  {
   "cell_type": "code",
   "execution_count": 14,
   "metadata": {},
   "outputs": [],
   "source": [
    "response = requests.get(url + \"zip=03100,MX&appid={}\"\\\n",
    "                        .format(contrasena))"
   ]
  },
  {
   "cell_type": "code",
   "execution_count": 15,
   "metadata": {},
   "outputs": [
    {
     "data": {
      "text/plain": [
       "'{\"coord\":{\"lon\":-106.2455,\"lat\":29.0334},\"weather\":[{\"id\":802,\"main\":\"Clouds\",\"description\":\"scattered clouds\",\"icon\":\"03d\"}],\"base\":\"stations\",\"main\":{\"temp\":302.28,\"feels_like\":300.61,\"temp_min\":301.48,\"temp_max\":303.15,\"pressure\":1007,\"humidity\":11},\"visibility\":10000,\"wind\":{\"speed\":8.75,\"deg\":240},\"clouds\":{\"all\":40},\"dt\":1620005383,\"sys\":{\"type\":1,\"id\":7111,\"country\":\"MX\",\"sunrise\":1619958142,\"sunset\":1620006080},\"timezone\":-21600,\"id\":0,\"name\":\"Del Valle Centro\",\"cod\":200}'"
      ]
     },
     "execution_count": 15,
     "metadata": {},
     "output_type": "execute_result"
    }
   ],
   "source": [
    "response.text"
   ]
  },
  {
   "cell_type": "code",
   "execution_count": null,
   "metadata": {},
   "outputs": [],
   "source": []
  }
 ],
 "metadata": {
  "kernelspec": {
   "display_name": "Python 3",
   "language": "python",
   "name": "python3"
  },
  "language_info": {
   "codemirror_mode": {
    "name": "ipython",
    "version": 3
   },
   "file_extension": ".py",
   "mimetype": "text/x-python",
   "name": "python",
   "nbconvert_exporter": "python",
   "pygments_lexer": "ipython3",
   "version": "3.8.5"
  }
 },
 "nbformat": 4,
 "nbformat_minor": 4
}
