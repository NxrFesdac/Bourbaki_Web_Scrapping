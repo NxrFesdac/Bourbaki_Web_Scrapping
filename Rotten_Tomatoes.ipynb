{
 "cells": [
  {
   "cell_type": "code",
   "execution_count": 1,
   "metadata": {},
   "outputs": [],
   "source": [
    "from selenium import webdriver\n",
    "import pandas as pd\n",
    "import time"
   ]
  },
  {
   "cell_type": "code",
   "execution_count": 2,
   "metadata": {},
   "outputs": [],
   "source": [
    "driver = webdriver.Chrome()"
   ]
  },
  {
   "cell_type": "code",
   "execution_count": 3,
   "metadata": {},
   "outputs": [],
   "source": [
    "driver.get('https://www.rottentomatoes.com')"
   ]
  },
  {
   "cell_type": "markdown",
   "metadata": {},
   "source": [
    "#### Esto es nada más para aprender a escribir"
   ]
  },
  {
   "cell_type": "code",
   "execution_count": null,
   "metadata": {},
   "outputs": [],
   "source": [
    "driver.find_element_by_xpath(\"//input[@class='search-text']\").click()"
   ]
  },
  {
   "cell_type": "code",
   "execution_count": null,
   "metadata": {},
   "outputs": [],
   "source": [
    "driver.find_element_by_xpath(\"//input[@class='search-text']\").send_keys('peli')"
   ]
  },
  {
   "cell_type": "markdown",
   "metadata": {},
   "source": [
    "#### Aquí dejamos de escribir y empezamos el código serio"
   ]
  },
  {
   "cell_type": "code",
   "execution_count": 4,
   "metadata": {},
   "outputs": [],
   "source": [
    "top = driver.find_elements_by_xpath(\"//ul[@class='masthead__dropdown-menus list-inline']/li\")"
   ]
  },
  {
   "cell_type": "code",
   "execution_count": 5,
   "metadata": {},
   "outputs": [],
   "source": [
    "movies_overlay = webdriver.common.action_chains.ActionChains(driver)\n",
    "movies_overlay.move_to_element_with_offset(driver.find_elements_by_xpath(\"//ul[@class='masthead__dropdown-menus list-inline']/li\")[0], 5, 5)\n",
    "movies_overlay.perform()\n",
    "time.sleep(1)"
   ]
  },
  {
   "cell_type": "code",
   "execution_count": 6,
   "metadata": {},
   "outputs": [],
   "source": [
    "top = driver.find_elements_by_xpath(\"//ul[@class='masthead__dropdown-menus list-inline']/li\")\n",
    "top_movies = top[0].find_elements_by_xpath(\"//a[@class='masthead__article-link']\")\n",
    "for item in top_movies:\n",
    "    if item.text == 'Top Movies':\n",
    "        item.click()\n",
    "        break"
   ]
  },
  {
   "cell_type": "code",
   "execution_count": 7,
   "metadata": {},
   "outputs": [],
   "source": [
    "driver.find_element_by_xpath(\"//ul[@class='genrelist']/li\").click()\n",
    "time.sleep(3)"
   ]
  },
  {
   "cell_type": "code",
   "execution_count": 8,
   "metadata": {},
   "outputs": [],
   "source": [
    "total = driver.find_elements_by_xpath(\"//table[@class='table']/tbody/tr\")"
   ]
  },
  {
   "cell_type": "code",
   "execution_count": 9,
   "metadata": {},
   "outputs": [
    {
     "name": "stdout",
     "output_type": "stream",
     "text": [
      "0\n",
      "100\n",
      "Un solo click\n",
      "------------------------\n",
      "1\n",
      "100\n",
      "Un solo click\n",
      "------------------------\n",
      "2\n",
      "100\n",
      "Un solo click\n",
      "------------------------\n"
     ]
    }
   ],
   "source": [
    "#for number in range(len(total)):\n",
    "for number in range(3):\n",
    "    time.sleep(3)\n",
    "    print(number)\n",
    "    rank = driver.find_elements_by_xpath(\"//table[@class='table']/tbody/tr\")\n",
    "    print(len(rank))\n",
    "    contador = 0\n",
    "    for name in rank[number].find_elements_by_xpath(\"//td/a[@class='unstyled articleLink']\"):\n",
    "        if number == contador:\n",
    "            nombre = name.text\n",
    "            #print('------------------------')\n",
    "            name.click()\n",
    "            try:\n",
    "                name.click()\n",
    "            except:\n",
    "                print('Un solo click')\n",
    "            time.sleep(2)\n",
    "            #Movie Name\n",
    "            driver.find_element_by_xpath(\"//h1[@class='scoreboard__title']\").text\n",
    "            #Movie Info\n",
    "            movie_info = []\n",
    "            for info in driver.find_elements_by_xpath(\"//ul[@class='content-meta info']/li/div\"):\n",
    "                movie_info.append(info.text)\n",
    "            columns = movie_info[::2]\n",
    "            values = movie_info[1::2]\n",
    "            #Actores\n",
    "            movie_actor = []\n",
    "            for actor in driver.find_elements_by_xpath(\"//div[@class='cast-item media inlineBlock  ']/div/a/span\"):\n",
    "                movie_actor.append(actor.text)\n",
    "            actors = ', '.join(movie_actor)\n",
    "            time.sleep(1)\n",
    "        \n",
    "            driver.get('https://www.rottentomatoes.com/top/bestofrt/top_100_action__adventure_movies/')\n",
    "            break\n",
    "        \n",
    "        contador = contador + 1\n",
    "    \n",
    "    if number == 0:\n",
    "        df = pd.DataFrame([values], columns=[columns])\n",
    "        df['Nombre'] = nombre\n",
    "        df['Actores'] = actors\n",
    "    else:\n",
    "        df_final = pd.DataFrame([values], columns=[columns])\n",
    "        df_final['Nombre'] = nombre\n",
    "        df_final['Actores'] = actors\n",
    "        \n",
    "        df = pd.concat([df_final, df])\n",
    "        \n",
    "    print('------------------------')"
   ]
  },
  {
   "cell_type": "code",
   "execution_count": 10,
   "metadata": {},
   "outputs": [
    {
     "data": {
      "text/html": [
       "<div>\n",
       "<style scoped>\n",
       "    .dataframe tbody tr th:only-of-type {\n",
       "        vertical-align: middle;\n",
       "    }\n",
       "\n",
       "    .dataframe tbody tr th {\n",
       "        vertical-align: top;\n",
       "    }\n",
       "\n",
       "    .dataframe thead tr th {\n",
       "        text-align: left;\n",
       "    }\n",
       "</style>\n",
       "<table border=\"1\" class=\"dataframe\">\n",
       "  <thead>\n",
       "    <tr>\n",
       "      <th></th>\n",
       "      <th>Actores</th>\n",
       "      <th>Aspect Ratio:</th>\n",
       "      <th>Box Office (Gross USA):</th>\n",
       "      <th>Director:</th>\n",
       "      <th>Genre:</th>\n",
       "      <th>Nombre</th>\n",
       "      <th>Original Language:</th>\n",
       "      <th>Producer:</th>\n",
       "      <th>Production Co:</th>\n",
       "      <th>Rating:</th>\n",
       "      <th>Release Date (Streaming):</th>\n",
       "      <th>Release Date (Theaters):</th>\n",
       "      <th>Runtime:</th>\n",
       "      <th>Sound Mix:</th>\n",
       "      <th>View the collection:</th>\n",
       "      <th>Writer:</th>\n",
       "    </tr>\n",
       "  </thead>\n",
       "  <tbody>\n",
       "    <tr>\n",
       "      <th>0</th>\n",
       "      <td>Tom Cruise, Henry Cavill, Ving Rhames, Simon P...</td>\n",
       "      <td>Scope (2.35:1)</td>\n",
       "      <td>$220.1M</td>\n",
       "      <td>Christopher McQuarrie</td>\n",
       "      <td>Action, Adventure, Mystery And Thriller</td>\n",
       "      <td>Mission: Impossible - Fallout (2018)</td>\n",
       "      <td>English</td>\n",
       "      <td>Tom Cruise, Christopher McQuarrie, Jake Myers,...</td>\n",
       "      <td>Tom Cruise, Bad Robot</td>\n",
       "      <td>PG-13 (Intense Sequences of Action|Brief Stron...</td>\n",
       "      <td>Nov 20, 2018</td>\n",
       "      <td>Jul 27, 2018  Wide</td>\n",
       "      <td>2h 27m</td>\n",
       "      <td>DTS, Dolby Atmos, Dolby Digital</td>\n",
       "      <td>NaN</td>\n",
       "      <td>Christopher McQuarrie</td>\n",
       "    </tr>\n",
       "    <tr>\n",
       "      <th>0</th>\n",
       "      <td>Robert Downey Jr., Chris Evans, Mark Ruffalo, ...</td>\n",
       "      <td>Scope (2.35:1)</td>\n",
       "      <td>$858.4M</td>\n",
       "      <td>Anthony Russo, Joe Russo</td>\n",
       "      <td>Sci Fi, Action, Fantasy, Adventure</td>\n",
       "      <td>Avengers: Endgame (2019)</td>\n",
       "      <td>English</td>\n",
       "      <td>Kevin Feige</td>\n",
       "      <td>Marvel Studios, Walt Disney Pictures</td>\n",
       "      <td>PG-13 (Sequences of Sci-Fi Violence|Action|Som...</td>\n",
       "      <td>Jul 30, 2019</td>\n",
       "      <td>Apr 26, 2019  Wide</td>\n",
       "      <td>3h 1m</td>\n",
       "      <td>Dolby Atmos, DTS, Dolby Digital, SDDS</td>\n",
       "      <td>Marvel Cinematic Universe</td>\n",
       "      <td>Christopher Markus, Stephen McFeely</td>\n",
       "    </tr>\n",
       "    <tr>\n",
       "      <th>0</th>\n",
       "      <td>Chadwick Boseman, Michael B. Jordan, Lupita Ny...</td>\n",
       "      <td>Scope (2.35:1)</td>\n",
       "      <td>$700.2M</td>\n",
       "      <td>Ryan Coogler</td>\n",
       "      <td>Action, Fantasy, Adventure</td>\n",
       "      <td>Black Panther (2018)</td>\n",
       "      <td>English</td>\n",
       "      <td>Kevin Feige</td>\n",
       "      <td>Walt Disney Pictures</td>\n",
       "      <td>PG-13 (Sequences of Action Violence|A Brief Ru...</td>\n",
       "      <td>May 2, 2018</td>\n",
       "      <td>Feb 16, 2018  Wide</td>\n",
       "      <td>2h 14m</td>\n",
       "      <td>DTS, Dolby Atmos</td>\n",
       "      <td>Marvel Cinematic Universe</td>\n",
       "      <td>Ryan Coogler, Joe Robert Cole</td>\n",
       "    </tr>\n",
       "  </tbody>\n",
       "</table>\n",
       "</div>"
      ],
      "text/plain": [
       "                                             Actores   Aspect Ratio:  \\\n",
       "0  Tom Cruise, Henry Cavill, Ving Rhames, Simon P...  Scope (2.35:1)   \n",
       "0  Robert Downey Jr., Chris Evans, Mark Ruffalo, ...  Scope (2.35:1)   \n",
       "0  Chadwick Boseman, Michael B. Jordan, Lupita Ny...  Scope (2.35:1)   \n",
       "\n",
       "  Box Office (Gross USA):                 Director:  \\\n",
       "0                 $220.1M     Christopher McQuarrie   \n",
       "0                 $858.4M  Anthony Russo, Joe Russo   \n",
       "0                 $700.2M              Ryan Coogler   \n",
       "\n",
       "                                    Genre:  \\\n",
       "0  Action, Adventure, Mystery And Thriller   \n",
       "0       Sci Fi, Action, Fantasy, Adventure   \n",
       "0               Action, Fantasy, Adventure   \n",
       "\n",
       "                                 Nombre Original Language:  \\\n",
       "0  Mission: Impossible - Fallout (2018)            English   \n",
       "0              Avengers: Endgame (2019)            English   \n",
       "0                  Black Panther (2018)            English   \n",
       "\n",
       "                                           Producer:  \\\n",
       "0  Tom Cruise, Christopher McQuarrie, Jake Myers,...   \n",
       "0                                        Kevin Feige   \n",
       "0                                        Kevin Feige   \n",
       "\n",
       "                         Production Co:  \\\n",
       "0                 Tom Cruise, Bad Robot   \n",
       "0  Marvel Studios, Walt Disney Pictures   \n",
       "0                  Walt Disney Pictures   \n",
       "\n",
       "                                             Rating:  \\\n",
       "0  PG-13 (Intense Sequences of Action|Brief Stron...   \n",
       "0  PG-13 (Sequences of Sci-Fi Violence|Action|Som...   \n",
       "0  PG-13 (Sequences of Action Violence|A Brief Ru...   \n",
       "\n",
       "  Release Date (Streaming): Release Date (Theaters): Runtime:  \\\n",
       "0              Nov 20, 2018       Jul 27, 2018  Wide   2h 27m   \n",
       "0              Jul 30, 2019       Apr 26, 2019  Wide    3h 1m   \n",
       "0               May 2, 2018       Feb 16, 2018  Wide   2h 14m   \n",
       "\n",
       "                              Sound Mix:       View the collection:  \\\n",
       "0        DTS, Dolby Atmos, Dolby Digital                        NaN   \n",
       "0  Dolby Atmos, DTS, Dolby Digital, SDDS  Marvel Cinematic Universe   \n",
       "0                       DTS, Dolby Atmos  Marvel Cinematic Universe   \n",
       "\n",
       "                               Writer:  \n",
       "0                Christopher McQuarrie  \n",
       "0  Christopher Markus, Stephen McFeely  \n",
       "0        Ryan Coogler, Joe Robert Cole  "
      ]
     },
     "execution_count": 10,
     "metadata": {},
     "output_type": "execute_result"
    }
   ],
   "source": [
    "df.head()"
   ]
  },
  {
   "cell_type": "code",
   "execution_count": null,
   "metadata": {},
   "outputs": [],
   "source": [
    "df.to_csv('movies_db.csv', index=False)"
   ]
  },
  {
   "cell_type": "code",
   "execution_count": null,
   "metadata": {},
   "outputs": [],
   "source": []
  }
 ],
 "metadata": {
  "kernelspec": {
   "display_name": "Python 3",
   "language": "python",
   "name": "python3"
  },
  "language_info": {
   "codemirror_mode": {
    "name": "ipython",
    "version": 3
   },
   "file_extension": ".py",
   "mimetype": "text/x-python",
   "name": "python",
   "nbconvert_exporter": "python",
   "pygments_lexer": "ipython3",
   "version": "3.8.5"
  }
 },
 "nbformat": 4,
 "nbformat_minor": 4
}
